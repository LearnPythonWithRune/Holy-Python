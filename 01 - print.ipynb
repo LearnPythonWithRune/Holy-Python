{
 "cells": [
  {
   "cell_type": "markdown",
   "id": "01a4666a",
   "metadata": {},
   "source": [
    "# print\n",
    "\n",
    "`print()` in Python displays data to the user. It doesn’t change or affect values, variables, functions in any way and simply displays what you tell it to display.\n",
    "\n",
    "### Syntax\n",
    "1. Print works with parenthesis `print()` \n",
    "2. If you want to print a text, it will have to be in quotes: `print(\"Hello, World!\")`"
   ]
  },
  {
   "cell_type": "code",
   "execution_count": 1,
   "id": "864ca952",
   "metadata": {},
   "outputs": [
    {
     "name": "stdout",
     "output_type": "stream",
     "text": [
      "Hello, World!\n"
     ]
    }
   ],
   "source": [
    "print(\"Hello, World!\")"
   ]
  },
  {
   "cell_type": "markdown",
   "id": "2fc59559",
   "metadata": {},
   "source": [
    "3. You can print multiple values by separating them with commas.\n",
    "4. You can use sep parameter inside your print function and this will separate each value with the separator you provided. `print(\"Model S\" , \"Model 3\" , sep=\"--\")`"
   ]
  },
  {
   "cell_type": "code",
   "execution_count": 3,
   "id": "3f56b0ab",
   "metadata": {},
   "outputs": [
    {
     "name": "stdout",
     "output_type": "stream",
     "text": [
      "Charles--42--1.83\n"
     ]
    }
   ],
   "source": [
    "name = 'Charles'\n",
    "age = 42\n",
    "height = 1.83\n",
    "\n",
    "print(name, age, height, sep='--')"
   ]
  },
  {
   "cell_type": "markdown",
   "id": "8a383d12",
   "metadata": {},
   "source": [
    "5. By default print() function enters a line value after each execution. You can avoid this if you’d like so by using end parameter. `print('No', end=' ')`"
   ]
  },
  {
   "cell_type": "code",
   "execution_count": 6,
   "id": "eb527d77",
   "metadata": {},
   "outputs": [
    {
     "name": "stdout",
     "output_type": "stream",
     "text": [
      "one-tow-three\n"
     ]
    }
   ],
   "source": [
    "print(\"one\", end='-')\n",
    "print(\"tow\", end='-')\n",
    "print(\"three\")"
   ]
  },
  {
   "cell_type": "markdown",
   "id": "14fc75c9",
   "metadata": {},
   "source": [
    "### Syntax Errors\n",
    "\n",
    "1. Using Python 2 style print."
   ]
  },
  {
   "cell_type": "code",
   "execution_count": 8,
   "id": "5afcbc87",
   "metadata": {},
   "outputs": [
    {
     "name": "stdout",
     "output_type": "stream",
     "text": [
      "Hello World\n"
     ]
    }
   ],
   "source": [
    "print(\"Hello World\")"
   ]
  },
  {
   "cell_type": "markdown",
   "id": "edd8ba89",
   "metadata": {},
   "source": [
    "### Syntax Errors\n",
    "\n",
    "2. Using addition on string and int/float"
   ]
  },
  {
   "cell_type": "code",
   "execution_count": 10,
   "id": "7a70040e",
   "metadata": {},
   "outputs": [
    {
     "name": "stdout",
     "output_type": "stream",
     "text": [
      "foo 2\n"
     ]
    }
   ],
   "source": [
    "s = 'foo'\n",
    "a = 2\n",
    "\n",
    "print(s, a)"
   ]
  },
  {
   "cell_type": "markdown",
   "id": "2b16a2c4",
   "metadata": {},
   "source": [
    "### Syntax Errors\n",
    "\n",
    "3. Quote inside print function"
   ]
  },
  {
   "cell_type": "code",
   "execution_count": 13,
   "id": "1bf1d4a4",
   "metadata": {},
   "outputs": [
    {
     "name": "stdout",
     "output_type": "stream",
     "text": [
      "I'm wrong\n"
     ]
    }
   ],
   "source": [
    "print(\"I'm wrong\")"
   ]
  },
  {
   "cell_type": "code",
   "execution_count": null,
   "id": "faada0a6",
   "metadata": {},
   "outputs": [],
   "source": []
  }
 ],
 "metadata": {
  "kernelspec": {
   "display_name": "Python 3 (ipykernel)",
   "language": "python",
   "name": "python3"
  },
  "language_info": {
   "codemirror_mode": {
    "name": "ipython",
    "version": 3
   },
   "file_extension": ".py",
   "mimetype": "text/x-python",
   "name": "python",
   "nbconvert_exporter": "python",
   "pygments_lexer": "ipython3",
   "version": "3.9.13"
  }
 },
 "nbformat": 4,
 "nbformat_minor": 5
}
