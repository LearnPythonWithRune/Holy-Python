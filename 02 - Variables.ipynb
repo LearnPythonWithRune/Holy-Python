{
 "cells": [
  {
   "cell_type": "markdown",
   "id": "93c632e0",
   "metadata": {},
   "source": [
    "# Variables\n",
    "\n",
    "Variables contain data. So, you can call them later. This makes data reusable, recallable, reassignable etc.\n",
    "\n",
    "Syntax\n",
    "```Python\n",
    "sun_to_earth = 149597870\n",
    "sun_to_earth = sun_to_earth + 1\n",
    "\n",
    "print(sun_to_earth)\n",
    "```"
   ]
  },
  {
   "cell_type": "code",
   "execution_count": 1,
   "id": "d92ef323",
   "metadata": {},
   "outputs": [],
   "source": [
    "sun_to_earth = 149597870"
   ]
  },
  {
   "cell_type": "code",
   "execution_count": 3,
   "id": "e69b7d7c",
   "metadata": {},
   "outputs": [
    {
     "data": {
      "text/plain": [
       "149597871"
      ]
     },
     "execution_count": 3,
     "metadata": {},
     "output_type": "execute_result"
    }
   ],
   "source": [
    "sun_to_earth + 1"
   ]
  },
  {
   "cell_type": "code",
   "execution_count": 4,
   "id": "e1206eb8",
   "metadata": {},
   "outputs": [],
   "source": [
    "sun_to_earth = sun_to_earth + 1"
   ]
  },
  {
   "cell_type": "code",
   "execution_count": 5,
   "id": "f874dafd",
   "metadata": {},
   "outputs": [
    {
     "data": {
      "text/plain": [
       "149597871"
      ]
     },
     "execution_count": 5,
     "metadata": {},
     "output_type": "execute_result"
    }
   ],
   "source": [
    "sun_to_earth"
   ]
  },
  {
   "cell_type": "markdown",
   "id": "a78946ee",
   "metadata": {},
   "source": [
    "### Variable names\n",
    "\n",
    "1. Assigning a variable is located on the left of the equation.\n",
    "```Python\n",
    "sun_to_earth = 149597870\n",
    "```\n",
    "2. You can start a variable name with a letter or underscore (_)\n",
    "3. If you want to print a variable this will have to be without quotes.\n",
    "```Python\n",
    "print(sun_to_earth)\n",
    "```"
   ]
  },
  {
   "cell_type": "code",
   "execution_count": 6,
   "id": "11a6aa34",
   "metadata": {},
   "outputs": [
    {
     "name": "stdout",
     "output_type": "stream",
     "text": [
      "149597871\n"
     ]
    }
   ],
   "source": [
    "print(sun_to_earth)"
   ]
  },
  {
   "cell_type": "code",
   "execution_count": null,
   "id": "aceaf848",
   "metadata": {},
   "outputs": [],
   "source": []
  },
  {
   "cell_type": "markdown",
   "id": "3b4e83ec",
   "metadata": {},
   "source": [
    "### Syntax don't(s)\n",
    "\n",
    "1. You can't start a variable name with a number.\n",
    "2. You can't use symbols (except underscore) in a variable name.\n",
    "3. You can't include spaces in your variable name."
   ]
  },
  {
   "cell_type": "code",
   "execution_count": 8,
   "id": "43de0526",
   "metadata": {},
   "outputs": [],
   "source": [
    "num = 9"
   ]
  },
  {
   "cell_type": "code",
   "execution_count": 11,
   "id": "f7c66498",
   "metadata": {},
   "outputs": [],
   "source": [
    "sun_to_earth = 10"
   ]
  },
  {
   "cell_type": "code",
   "execution_count": 13,
   "id": "7b38cc5e",
   "metadata": {},
   "outputs": [],
   "source": [
    "sun_to_earth = 10"
   ]
  },
  {
   "cell_type": "code",
   "execution_count": null,
   "id": "9757cbdc",
   "metadata": {},
   "outputs": [],
   "source": []
  }
 ],
 "metadata": {
  "kernelspec": {
   "display_name": "Python 3 (ipykernel)",
   "language": "python",
   "name": "python3"
  },
  "language_info": {
   "codemirror_mode": {
    "name": "ipython",
    "version": 3
   },
   "file_extension": ".py",
   "mimetype": "text/x-python",
   "name": "python",
   "nbconvert_exporter": "python",
   "pygments_lexer": "ipython3",
   "version": "3.9.13"
  }
 },
 "nbformat": 4,
 "nbformat_minor": 5
}
