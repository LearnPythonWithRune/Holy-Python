{
 "cells": [
  {
   "cell_type": "markdown",
   "id": "826b3ebf",
   "metadata": {},
   "source": [
    "# Data Types\n",
    "\n",
    "Although there are many different data types in Python, some are much more common than others. Some of the basic and most common data types in Python are:\n",
    "\n",
    "- `int` this type of data consists of numbers and particularly integers.\n",
    "- `float` this type of data refers to numbers with decimals\n",
    "- `str` standing for string, an str type of variable keeps data as a text string.\n",
    "\n",
    "Example\n",
    "```Python\n",
    "my_cars_number = 3\n",
    "my_cars_color = \"Bronze, Green, Black\"\n",
    "```"
   ]
  },
  {
   "cell_type": "markdown",
   "id": "b5751335",
   "metadata": {},
   "source": [
    "### Function `type()`\n",
    "\n",
    "`type()` function can be used to find out data type of data in Python."
   ]
  },
  {
   "cell_type": "code",
   "execution_count": 1,
   "id": "eee4ea10",
   "metadata": {},
   "outputs": [],
   "source": [
    "my_cars_number = 3"
   ]
  },
  {
   "cell_type": "code",
   "execution_count": 2,
   "id": "a3333e15",
   "metadata": {},
   "outputs": [
    {
     "data": {
      "text/plain": [
       "int"
      ]
     },
     "execution_count": 2,
     "metadata": {},
     "output_type": "execute_result"
    }
   ],
   "source": [
    "type(my_cars_number)"
   ]
  },
  {
   "cell_type": "code",
   "execution_count": 3,
   "id": "369d2db6",
   "metadata": {},
   "outputs": [],
   "source": [
    "my_cars_color = \"Bronze, Green, Black\""
   ]
  },
  {
   "cell_type": "code",
   "execution_count": 4,
   "id": "fcf8c066",
   "metadata": {},
   "outputs": [
    {
     "data": {
      "text/plain": [
       "str"
      ]
     },
     "execution_count": 4,
     "metadata": {},
     "output_type": "execute_result"
    }
   ],
   "source": [
    "type(my_cars_color)"
   ]
  },
  {
   "cell_type": "code",
   "execution_count": 5,
   "id": "5f0c3fb3",
   "metadata": {},
   "outputs": [
    {
     "data": {
      "text/plain": [
       "float"
      ]
     },
     "execution_count": 5,
     "metadata": {},
     "output_type": "execute_result"
    }
   ],
   "source": [
    "type(2.4)"
   ]
  },
  {
   "cell_type": "code",
   "execution_count": 6,
   "id": "cf13268b",
   "metadata": {},
   "outputs": [],
   "source": [
    "my_cars_color = 3.4"
   ]
  },
  {
   "cell_type": "code",
   "execution_count": 7,
   "id": "146dd00c",
   "metadata": {},
   "outputs": [
    {
     "data": {
      "text/plain": [
       "float"
      ]
     },
     "execution_count": 7,
     "metadata": {},
     "output_type": "execute_result"
    }
   ],
   "source": [
    "type(my_cars_color)"
   ]
  },
  {
   "cell_type": "code",
   "execution_count": null,
   "id": "1398cb64",
   "metadata": {},
   "outputs": [],
   "source": []
  }
 ],
 "metadata": {
  "kernelspec": {
   "display_name": "Python 3 (ipykernel)",
   "language": "python",
   "name": "python3"
  },
  "language_info": {
   "codemirror_mode": {
    "name": "ipython",
    "version": 3
   },
   "file_extension": ".py",
   "mimetype": "text/x-python",
   "name": "python",
   "nbconvert_exporter": "python",
   "pygments_lexer": "ipython3",
   "version": "3.9.13"
  }
 },
 "nbformat": 4,
 "nbformat_minor": 5
}
