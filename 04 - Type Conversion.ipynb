{
 "cells": [
  {
   "cell_type": "markdown",
   "id": "0d9638dd",
   "metadata": {},
   "source": [
    "# Type Conversion\n",
    "\n",
    "We will look at some other functions that can help you convert the type of a data. These are: `int()`, `float()` and `str()`."
   ]
  },
  {
   "cell_type": "markdown",
   "id": "ae5d9376",
   "metadata": {},
   "source": [
    "### Syntax\n",
    "\n",
    "1. You can convert `int` or `float` types into `str` type as `str` can have any letter, number or symbols in them.\n",
    "2. `str` type is always represented in quotes while `int`, `float` and `bool` types don't have quotes."
   ]
  },
  {
   "cell_type": "code",
   "execution_count": 12,
   "id": "f0afb8ce",
   "metadata": {},
   "outputs": [
    {
     "data": {
      "text/plain": [
       "'20'"
      ]
     },
     "execution_count": 12,
     "metadata": {},
     "output_type": "execute_result"
    }
   ],
   "source": [
    "a = 20\n",
    "s = str(a)\n",
    "s"
   ]
  },
  {
   "cell_type": "code",
   "execution_count": 14,
   "id": "0cffea66",
   "metadata": {},
   "outputs": [
    {
     "data": {
      "text/plain": [
       "'2.0'"
      ]
     },
     "execution_count": 14,
     "metadata": {},
     "output_type": "execute_result"
    }
   ],
   "source": [
    "b = 2.0\n",
    "s = str(b)\n",
    "s"
   ]
  },
  {
   "cell_type": "code",
   "execution_count": 16,
   "id": "d2b8e46c",
   "metadata": {},
   "outputs": [
    {
     "data": {
      "text/plain": [
       "(2, int)"
      ]
     },
     "execution_count": 16,
     "metadata": {},
     "output_type": "execute_result"
    }
   ],
   "source": [
    "s = '2'\n",
    "a = int(s)\n",
    "a, type(a)"
   ]
  },
  {
   "cell_type": "code",
   "execution_count": 18,
   "id": "cb02ba0b",
   "metadata": {},
   "outputs": [
    {
     "data": {
      "text/plain": [
       "(2.0, float)"
      ]
     },
     "execution_count": 18,
     "metadata": {},
     "output_type": "execute_result"
    }
   ],
   "source": [
    "s = '2.0'\n",
    "b = float(s)\n",
    "b, type(b)"
   ]
  },
  {
   "cell_type": "code",
   "execution_count": null,
   "id": "a27085f5",
   "metadata": {},
   "outputs": [],
   "source": []
  },
  {
   "cell_type": "markdown",
   "id": "ec609c0d",
   "metadata": {},
   "source": [
    "### Syntax errors\n",
    "\n",
    "1. You can't convert a string consisting of letters into integer or float type."
   ]
  },
  {
   "cell_type": "code",
   "execution_count": 20,
   "id": "ca5aab25",
   "metadata": {},
   "outputs": [
    {
     "ename": "ValueError",
     "evalue": "could not convert string to float: 'age 42.5'",
     "output_type": "error",
     "traceback": [
      "\u001b[0;31m---------------------------------------------------------------------------\u001b[0m",
      "\u001b[0;31mValueError\u001b[0m                                Traceback (most recent call last)",
      "\u001b[0;32m/var/folders/5f/vgbh9pkd4wzf4ysrpf9wsr800000gn/T/ipykernel_28997/4151451795.py\u001b[0m in \u001b[0;36m<module>\u001b[0;34m\u001b[0m\n\u001b[1;32m      1\u001b[0m \u001b[0ms\u001b[0m \u001b[0;34m=\u001b[0m \u001b[0;34m'age 42.5'\u001b[0m\u001b[0;34m\u001b[0m\u001b[0;34m\u001b[0m\u001b[0m\n\u001b[0;32m----> 2\u001b[0;31m \u001b[0ma\u001b[0m \u001b[0;34m=\u001b[0m \u001b[0mfloat\u001b[0m\u001b[0;34m(\u001b[0m\u001b[0ms\u001b[0m\u001b[0;34m)\u001b[0m\u001b[0;34m\u001b[0m\u001b[0;34m\u001b[0m\u001b[0m\n\u001b[0m",
      "\u001b[0;31mValueError\u001b[0m: could not convert string to float: 'age 42.5'"
     ]
    }
   ],
   "source": [
    "s = 'age 42.5'\n",
    "a = float(s)"
   ]
  },
  {
   "cell_type": "code",
   "execution_count": null,
   "id": "50b14567",
   "metadata": {},
   "outputs": [],
   "source": []
  }
 ],
 "metadata": {
  "kernelspec": {
   "display_name": "Python 3 (ipykernel)",
   "language": "python",
   "name": "python3"
  },
  "language_info": {
   "codemirror_mode": {
    "name": "ipython",
    "version": 3
   },
   "file_extension": ".py",
   "mimetype": "text/x-python",
   "name": "python",
   "nbconvert_exporter": "python",
   "pygments_lexer": "ipython3",
   "version": "3.9.13"
  }
 },
 "nbformat": 4,
 "nbformat_minor": 5
}
