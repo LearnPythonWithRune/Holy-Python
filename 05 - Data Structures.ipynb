{
 "cells": [
  {
   "cell_type": "markdown",
   "id": "9030b934",
   "metadata": {},
   "source": [
    "# Data Structures\n",
    "\n",
    "Learning data structures is one of the first steps to start accumulating data and write more complex programs.\n",
    "\n",
    "- list `[]`\n",
    "- dictionary `{}`"
   ]
  },
  {
   "cell_type": "markdown",
   "id": "3cad6872",
   "metadata": {},
   "source": [
    "### Lists\n",
    "\n",
    "Contains values. It can be pretty much anything, numbers, strings, names, features etc."
   ]
  },
  {
   "cell_type": "code",
   "execution_count": 1,
   "id": "026521ce",
   "metadata": {},
   "outputs": [],
   "source": [
    "my_list = ['String', 42, 1.83]"
   ]
  },
  {
   "cell_type": "code",
   "execution_count": 2,
   "id": "1cbca3ff",
   "metadata": {},
   "outputs": [
    {
     "data": {
      "text/plain": [
       "['String', 42, 1.83]"
      ]
     },
     "execution_count": 2,
     "metadata": {},
     "output_type": "execute_result"
    }
   ],
   "source": [
    "my_list"
   ]
  },
  {
   "cell_type": "code",
   "execution_count": 5,
   "id": "886aa49e",
   "metadata": {},
   "outputs": [
    {
     "data": {
      "text/plain": [
       "1.83"
      ]
     },
     "execution_count": 5,
     "metadata": {},
     "output_type": "execute_result"
    }
   ],
   "source": [
    "my_list[2]"
   ]
  },
  {
   "cell_type": "code",
   "execution_count": 6,
   "id": "4d5b790b",
   "metadata": {},
   "outputs": [],
   "source": [
    "my_list.append(4)"
   ]
  },
  {
   "cell_type": "code",
   "execution_count": 7,
   "id": "971b85ed",
   "metadata": {},
   "outputs": [
    {
     "data": {
      "text/plain": [
       "['String', 42, 1.83, 4]"
      ]
     },
     "execution_count": 7,
     "metadata": {},
     "output_type": "execute_result"
    }
   ],
   "source": [
    "my_list"
   ]
  },
  {
   "cell_type": "code",
   "execution_count": 12,
   "id": "492f9a29",
   "metadata": {},
   "outputs": [
    {
     "ename": "IndexError",
     "evalue": "pop from empty list",
     "output_type": "error",
     "traceback": [
      "\u001b[0;31m---------------------------------------------------------------------------\u001b[0m",
      "\u001b[0;31mIndexError\u001b[0m                                Traceback (most recent call last)",
      "\u001b[0;32m/var/folders/5f/vgbh9pkd4wzf4ysrpf9wsr800000gn/T/ipykernel_31422/2832351573.py\u001b[0m in \u001b[0;36m<module>\u001b[0;34m\u001b[0m\n\u001b[0;32m----> 1\u001b[0;31m \u001b[0mmy_list\u001b[0m\u001b[0;34m.\u001b[0m\u001b[0mpop\u001b[0m\u001b[0;34m(\u001b[0m\u001b[0;34m)\u001b[0m\u001b[0;34m\u001b[0m\u001b[0;34m\u001b[0m\u001b[0m\n\u001b[0m\u001b[1;32m      2\u001b[0m \u001b[0mmy_list\u001b[0m\u001b[0;34m\u001b[0m\u001b[0;34m\u001b[0m\u001b[0m\n",
      "\u001b[0;31mIndexError\u001b[0m: pop from empty list"
     ]
    }
   ],
   "source": [
    "my_list.pop()\n",
    "my_list"
   ]
  },
  {
   "cell_type": "code",
   "execution_count": null,
   "id": "d25ee47b",
   "metadata": {},
   "outputs": [],
   "source": []
  },
  {
   "cell_type": "markdown",
   "id": "0a12baaa",
   "metadata": {},
   "source": [
    "### Dictionary\n",
    "\n",
    "Contains key-value pairs."
   ]
  },
  {
   "cell_type": "code",
   "execution_count": 13,
   "id": "d86a83e0",
   "metadata": {},
   "outputs": [],
   "source": [
    "my_dict = {\n",
    "    'Name': 'Charles',\n",
    "    'Age': 42,\n",
    "    'Height': 1.83\n",
    "}"
   ]
  },
  {
   "cell_type": "code",
   "execution_count": 14,
   "id": "62b511e2",
   "metadata": {},
   "outputs": [
    {
     "data": {
      "text/plain": [
       "'Charles'"
      ]
     },
     "execution_count": 14,
     "metadata": {},
     "output_type": "execute_result"
    }
   ],
   "source": [
    "my_dict['Name']"
   ]
  },
  {
   "cell_type": "code",
   "execution_count": 15,
   "id": "dbf7845d",
   "metadata": {},
   "outputs": [
    {
     "data": {
      "text/plain": [
       "42"
      ]
     },
     "execution_count": 15,
     "metadata": {},
     "output_type": "execute_result"
    }
   ],
   "source": [
    "my_dict['Age']"
   ]
  },
  {
   "cell_type": "code",
   "execution_count": 16,
   "id": "9f0aacb3",
   "metadata": {},
   "outputs": [],
   "source": [
    "my_dict['Surname'] = 'Bob'"
   ]
  },
  {
   "cell_type": "code",
   "execution_count": 17,
   "id": "55042e84",
   "metadata": {},
   "outputs": [
    {
     "data": {
      "text/plain": [
       "{'Name': 'Charles', 'Age': 42, 'Height': 1.83, 'Surname': 'Bob'}"
      ]
     },
     "execution_count": 17,
     "metadata": {},
     "output_type": "execute_result"
    }
   ],
   "source": [
    "my_dict"
   ]
  },
  {
   "cell_type": "code",
   "execution_count": null,
   "id": "a56e54e6",
   "metadata": {},
   "outputs": [],
   "source": []
  }
 ],
 "metadata": {
  "kernelspec": {
   "display_name": "Python 3 (ipykernel)",
   "language": "python",
   "name": "python3"
  },
  "language_info": {
   "codemirror_mode": {
    "name": "ipython",
    "version": 3
   },
   "file_extension": ".py",
   "mimetype": "text/x-python",
   "name": "python",
   "nbconvert_exporter": "python",
   "pygments_lexer": "ipython3",
   "version": "3.9.13"
  }
 },
 "nbformat": 4,
 "nbformat_minor": 5
}
