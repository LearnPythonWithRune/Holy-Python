{
 "cells": [
  {
   "cell_type": "markdown",
   "id": "0eb3da69",
   "metadata": {},
   "source": [
    "# Python Lists\n",
    "\n",
    "Lists are a great first step to advance your Python programming knowledge.\n",
    "\n",
    "- It allows collecting data. \n",
    "- Or accessing data collections and working on them.\n",
    "\n",
    "We will show Python list methods and a few built-in functions that are useful when working with lists.\n",
    "\n",
    "> \"It’s not so important that you memorize every single Python list method, but it’s important that you are comfortable working with lists.\""
   ]
  },
  {
   "cell_type": "code",
   "execution_count": 1,
   "id": "6d59b85f",
   "metadata": {},
   "outputs": [
    {
     "name": "stdout",
     "output_type": "stream",
     "text": [
      "['Upper East', 'Wall Street', 'Broadway']\n"
     ]
    }
   ],
   "source": [
    "lst = ['Upper East', 'Wall Street', 'Broadway']\n",
    "\n",
    "print(lst)"
   ]
  },
  {
   "cell_type": "code",
   "execution_count": null,
   "id": "28c4b00c",
   "metadata": {},
   "outputs": [],
   "source": []
  },
  {
   "cell_type": "markdown",
   "id": "1b1b1714",
   "metadata": {},
   "source": [
    "### Data Types in Lists\n",
    "\n",
    "A Python lists can have any type, including.\n",
    "\n",
    "- `int` integers `42`\n",
    "- `float` floats `3.14`\n",
    "- `str` strings `'I am your String'`\n",
    "- `dict` dictionaries `{'key': 'value'}`\n",
    "- `tuple` typles `(42, 3.14, 'I am your String')`\n",
    "- `list` lists, yes, lists in lists\n",
    "\n",
    "...actually, they can hold any item (object)."
   ]
  },
  {
   "cell_type": "code",
   "execution_count": 2,
   "id": "0d5ea75b",
   "metadata": {},
   "outputs": [
    {
     "name": "stdout",
     "output_type": "stream",
     "text": [
      "['Soho', 'Gramercy', 23, 51, False, 'False', '22']\n"
     ]
    }
   ],
   "source": [
    "p_data = ['Soho', 'Gramercy', 23, 51, False, 'False', '22']\n",
    "\n",
    "print(p_data)"
   ]
  },
  {
   "cell_type": "code",
   "execution_count": null,
   "id": "dcb2a6f4",
   "metadata": {},
   "outputs": [],
   "source": []
  },
  {
   "cell_type": "markdown",
   "id": "dfeb6348",
   "metadata": {},
   "source": [
    "### Python List Features\n",
    "\n",
    "- **Composite Nature** Lists can hold multiple types of data `['String', 42, 3.14]`.\n",
    "- **Index Order** Every element has an index in the list.\n",
    "- **Indexing** List index starts with 0 (first element is index 0).\n",
    "- **Mutability** It can change. You can add, remove, change items in the list."
   ]
  },
  {
   "cell_type": "code",
   "execution_count": 3,
   "id": "0d99c1a5",
   "metadata": {},
   "outputs": [],
   "source": [
    "p_datatypes = ['Soho', 'Gramercy', 23, False]"
   ]
  },
  {
   "cell_type": "code",
   "execution_count": 10,
   "id": "304c85a0",
   "metadata": {},
   "outputs": [
    {
     "data": {
      "text/plain": [
       "bool"
      ]
     },
     "execution_count": 10,
     "metadata": {},
     "output_type": "execute_result"
    }
   ],
   "source": [
    "type(p_datatypes[3])"
   ]
  },
  {
   "cell_type": "markdown",
   "id": "03703718",
   "metadata": {},
   "source": [
    "### Python List Methods\n",
    "\n",
    "- `.append()` used for adding elements to a list"
   ]
  },
  {
   "cell_type": "code",
   "execution_count": 11,
   "id": "ad2c6ab4",
   "metadata": {},
   "outputs": [],
   "source": [
    "p_datatypes.append('my item')"
   ]
  },
  {
   "cell_type": "code",
   "execution_count": 12,
   "id": "ed567277",
   "metadata": {},
   "outputs": [
    {
     "data": {
      "text/plain": [
       "['Soho', 'Gramercy', 23, False, 'my item']"
      ]
     },
     "execution_count": 12,
     "metadata": {},
     "output_type": "execute_result"
    }
   ],
   "source": [
    "p_datatypes"
   ]
  },
  {
   "cell_type": "markdown",
   "id": "9ba40a7a",
   "metadata": {},
   "source": [
    "- `.insert()` used for inserting element to a particular index of the list"
   ]
  },
  {
   "cell_type": "code",
   "execution_count": 13,
   "id": "deaa0b8a",
   "metadata": {},
   "outputs": [
    {
     "data": {
      "text/plain": [
       "['Soho', 'my new item', 'Gramercy', 23, False, 'my item']"
      ]
     },
     "execution_count": 13,
     "metadata": {},
     "output_type": "execute_result"
    }
   ],
   "source": [
    "p_datatypes.insert(1, 'my new item')\n",
    "p_datatypes"
   ]
  },
  {
   "cell_type": "markdown",
   "id": "8daccb06",
   "metadata": {},
   "source": [
    "- `.index()` used to show the index of an element"
   ]
  },
  {
   "cell_type": "code",
   "execution_count": 14,
   "id": "7b056992",
   "metadata": {},
   "outputs": [
    {
     "data": {
      "text/plain": [
       "3"
      ]
     },
     "execution_count": 14,
     "metadata": {},
     "output_type": "execute_result"
    }
   ],
   "source": [
    "p_datatypes.index(23)"
   ]
  },
  {
   "cell_type": "markdown",
   "id": "52b88da6",
   "metadata": {},
   "source": [
    "- `.clear()` clears all the elements of the list"
   ]
  },
  {
   "cell_type": "code",
   "execution_count": 15,
   "id": "861acb4a",
   "metadata": {},
   "outputs": [
    {
     "data": {
      "text/plain": [
       "[]"
      ]
     },
     "execution_count": 15,
     "metadata": {},
     "output_type": "execute_result"
    }
   ],
   "source": [
    "p_datatypes.clear()\n",
    "p_datatypes"
   ]
  },
  {
   "cell_type": "markdown",
   "id": "dbf6a0a4",
   "metadata": {},
   "source": [
    "- `.remove()` used for removing an element of the list"
   ]
  },
  {
   "cell_type": "code",
   "execution_count": 16,
   "id": "154d1290",
   "metadata": {},
   "outputs": [
    {
     "data": {
      "text/plain": [
       "['Soho', 'Gramercy', 23]"
      ]
     },
     "execution_count": 16,
     "metadata": {},
     "output_type": "execute_result"
    }
   ],
   "source": [
    "p_datatypes = ['Soho', 'Gramercy', 23, False]\n",
    "p_datatypes.remove(False)\n",
    "p_datatypes"
   ]
  },
  {
   "cell_type": "markdown",
   "id": "21aed7f7",
   "metadata": {},
   "source": [
    "- `.reverse()` reverses the order inside the list"
   ]
  },
  {
   "cell_type": "code",
   "execution_count": 17,
   "id": "47ea5f2c",
   "metadata": {},
   "outputs": [
    {
     "data": {
      "text/plain": [
       "[23, 'Gramercy', 'Soho']"
      ]
     },
     "execution_count": 17,
     "metadata": {},
     "output_type": "execute_result"
    }
   ],
   "source": [
    "p_datatypes.reverse()\n",
    "p_datatypes"
   ]
  },
  {
   "cell_type": "markdown",
   "id": "e46043b9",
   "metadata": {},
   "source": [
    "- `.count()` used for counting how many elements there are in the list"
   ]
  },
  {
   "cell_type": "code",
   "execution_count": 19,
   "id": "ac724105",
   "metadata": {},
   "outputs": [
    {
     "data": {
      "text/plain": [
       "2"
      ]
     },
     "execution_count": 19,
     "metadata": {},
     "output_type": "execute_result"
    }
   ],
   "source": [
    "p_datatypes.append(23)\n",
    "p_datatypes.count(23)"
   ]
  },
  {
   "cell_type": "markdown",
   "id": "64b51d48",
   "metadata": {},
   "source": [
    "### A few useful built-in functions\n",
    "\n",
    "- `sum()` sums all the elements in the list\n",
    "- `min()` shows the element with lowest value in the list\n",
    "- `max()` shows the element with highest value in the list"
   ]
  },
  {
   "cell_type": "code",
   "execution_count": 25,
   "id": "129797e0",
   "metadata": {},
   "outputs": [
    {
     "data": {
      "text/plain": [
       "-1"
      ]
     },
     "execution_count": 25,
     "metadata": {},
     "output_type": "execute_result"
    }
   ],
   "source": [
    "lst = [1, 2, 3, 4, 5, 4, -1, 4]\n",
    "min(lst)"
   ]
  },
  {
   "cell_type": "markdown",
   "id": "47756d60",
   "metadata": {},
   "source": [
    "### Exercises\n",
    "\n",
    "[14 Exercises About Python Lists](https://holypython.com/beginner-python-exercises/exercise-6-python-lists/)"
   ]
  },
  {
   "cell_type": "code",
   "execution_count": null,
   "id": "18c1cb5f",
   "metadata": {},
   "outputs": [],
   "source": []
  }
 ],
 "metadata": {
  "kernelspec": {
   "display_name": "Python 3 (ipykernel)",
   "language": "python",
   "name": "python3"
  },
  "language_info": {
   "codemirror_mode": {
    "name": "ipython",
    "version": 3
   },
   "file_extension": ".py",
   "mimetype": "text/x-python",
   "name": "python",
   "nbconvert_exporter": "python",
   "pygments_lexer": "ipython3",
   "version": "3.9.13"
  }
 },
 "nbformat": 4,
 "nbformat_minor": 5
}
