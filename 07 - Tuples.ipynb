{
 "cells": [
  {
   "cell_type": "markdown",
   "id": "6f5c0306",
   "metadata": {},
   "source": [
    "# Python Tuples\n",
    "\n",
    "Tuples are very similar to lists except a main difference:\n",
    "\n",
    "- Tuples are **immutable** meaning they can not be changed unlike lists."
   ]
  },
  {
   "cell_type": "code",
   "execution_count": null,
   "id": "83cb8fb2",
   "metadata": {},
   "outputs": [],
   "source": []
  },
  {
   "cell_type": "markdown",
   "id": "c17eca46",
   "metadata": {},
   "source": [
    "### Python Tuple Features\n",
    "\n",
    "- **Composite Nature** Tuples can hold multiple types of data `('String', 42, 3.14)`.\n",
    "- **Index Order** Every element has an index in the tuple.\n",
    "- **Indexing** Tuple index starts with 0 (first element is index 0).\n",
    "- **Immutability** A tuple cannot change."
   ]
  },
  {
   "cell_type": "code",
   "execution_count": 1,
   "id": "a954ebb6",
   "metadata": {},
   "outputs": [],
   "source": [
    "p_tup = ('Oslo', 'Copenhagen', 44, True)"
   ]
  },
  {
   "cell_type": "code",
   "execution_count": 7,
   "id": "d5f6d6b0",
   "metadata": {},
   "outputs": [
    {
     "data": {
      "text/plain": [
       "bool"
      ]
     },
     "execution_count": 7,
     "metadata": {},
     "output_type": "execute_result"
    }
   ],
   "source": [
    "type(p_tup[3])"
   ]
  },
  {
   "cell_type": "markdown",
   "id": "3fb37cf9",
   "metadata": {},
   "source": [
    "### Tuple methods\n",
    "\n",
    "- `.index()` used to show the index of an element\n",
    "- `.count()` used for counting how many elements there are in the list"
   ]
  },
  {
   "cell_type": "code",
   "execution_count": 10,
   "id": "238fd608",
   "metadata": {},
   "outputs": [
    {
     "data": {
      "text/plain": [
       "3"
      ]
     },
     "execution_count": 10,
     "metadata": {},
     "output_type": "execute_result"
    }
   ],
   "source": [
    "p_tup.index(True)"
   ]
  },
  {
   "cell_type": "code",
   "execution_count": 11,
   "id": "b27839a2",
   "metadata": {},
   "outputs": [
    {
     "data": {
      "text/plain": [
       "1"
      ]
     },
     "execution_count": 11,
     "metadata": {},
     "output_type": "execute_result"
    }
   ],
   "source": [
    "p_tup.count('Copenhagen')"
   ]
  },
  {
   "cell_type": "code",
   "execution_count": null,
   "id": "1d1ebec1",
   "metadata": {},
   "outputs": [],
   "source": []
  },
  {
   "cell_type": "markdown",
   "id": "3aec92dd",
   "metadata": {},
   "source": [
    "### A few useful built-in functions\n",
    "\n",
    "- `sum()` sums all the elements in the list\n",
    "- `min()` shows the element with lowest value in the list\n",
    "- `max()` shows the element with highest value in the list"
   ]
  },
  {
   "cell_type": "code",
   "execution_count": 16,
   "id": "bf1ea33f",
   "metadata": {},
   "outputs": [
    {
     "data": {
      "text/plain": [
       "-1"
      ]
     },
     "execution_count": 16,
     "metadata": {},
     "output_type": "execute_result"
    }
   ],
   "source": [
    "t = (1, 2, 3, 4, 5, 4, -1, 6, 1)\n",
    "min(t)"
   ]
  },
  {
   "cell_type": "code",
   "execution_count": null,
   "id": "2b0f964d",
   "metadata": {},
   "outputs": [],
   "source": []
  },
  {
   "cell_type": "code",
   "execution_count": null,
   "id": "80991f7e",
   "metadata": {},
   "outputs": [],
   "source": []
  },
  {
   "cell_type": "markdown",
   "id": "d7818ed3",
   "metadata": {},
   "source": [
    "### Exercises\n",
    "\n",
    "[8 Exercises About Python Tuples](https://holypython.com/beginner-python-exercises/exercise-7-python-tuples/)"
   ]
  },
  {
   "cell_type": "code",
   "execution_count": null,
   "id": "4fdd2a71",
   "metadata": {},
   "outputs": [],
   "source": []
  }
 ],
 "metadata": {
  "kernelspec": {
   "display_name": "Python 3 (ipykernel)",
   "language": "python",
   "name": "python3"
  },
  "language_info": {
   "codemirror_mode": {
    "name": "ipython",
    "version": 3
   },
   "file_extension": ".py",
   "mimetype": "text/x-python",
   "name": "python",
   "nbconvert_exporter": "python",
   "pygments_lexer": "ipython3",
   "version": "3.9.13"
  }
 },
 "nbformat": 4,
 "nbformat_minor": 5
}
