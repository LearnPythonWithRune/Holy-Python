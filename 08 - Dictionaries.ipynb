{
 "cells": [
  {
   "cell_type": "markdown",
   "id": "68f032bb",
   "metadata": {},
   "source": [
    "# Python Dictionaries\n",
    "\n",
    "A dictionary consists of key-value pairs\n",
    "\n",
    "- The key-value pairs are enclosed in curly brackes `{}`\n",
    "- Pairs are separated from other key-value pairs by commas.\n",
    "- Key and value is separated by a colon \n",
    "\n",
    "```Python\n",
    "p_ages = {'Tom': 32, 'Jess': 29, 'Pete': 18}\n",
    "```"
   ]
  },
  {
   "cell_type": "code",
   "execution_count": 1,
   "id": "1796485d",
   "metadata": {},
   "outputs": [],
   "source": [
    "p_ages = {'Tom': 32, 'Jess': 29, 'Pete': 18}"
   ]
  },
  {
   "cell_type": "markdown",
   "id": "f2ada8f8",
   "metadata": {},
   "source": [
    "### Python Dictionary Features\n",
    "\n",
    "- `Lookup` You lookup a `value` with a `key`\n",
    "- `Key Types` The keys can be of any immutable type\n",
    "- `Value Types` The values can be of any type\n",
    "- `Composite Nature` The dictionary can hold multiple data types\n",
    "- `Insertion Order` The dictionary are not considered an ordered data type, but it keeps the order of insertion."
   ]
  },
  {
   "cell_type": "code",
   "execution_count": 3,
   "id": "8a177363",
   "metadata": {},
   "outputs": [
    {
     "data": {
      "text/plain": [
       "18"
      ]
     },
     "execution_count": 3,
     "metadata": {},
     "output_type": "execute_result"
    }
   ],
   "source": [
    "p_ages['Pete']"
   ]
  },
  {
   "cell_type": "code",
   "execution_count": 6,
   "id": "8b9b7054",
   "metadata": {},
   "outputs": [
    {
     "data": {
      "text/plain": [
       "[3, 1, 4]"
      ]
     },
     "execution_count": 6,
     "metadata": {},
     "output_type": "execute_result"
    }
   ],
   "source": [
    "d = {False: 'This is my False value', 3.14: [3, 1, 4]}\n",
    "d[3.14]"
   ]
  },
  {
   "cell_type": "code",
   "execution_count": 7,
   "id": "828b8320",
   "metadata": {},
   "outputs": [],
   "source": [
    "d['NEW'] = 'NEW VALUE'"
   ]
  },
  {
   "cell_type": "code",
   "execution_count": 8,
   "id": "4d68ef2f",
   "metadata": {},
   "outputs": [
    {
     "data": {
      "text/plain": [
       "{False: 'This is my False value', 3.14: [3, 1, 4], 'NEW': 'NEW VALUE'}"
      ]
     },
     "execution_count": 8,
     "metadata": {},
     "output_type": "execute_result"
    }
   ],
   "source": [
    "d"
   ]
  },
  {
   "cell_type": "markdown",
   "id": "5467f8ac",
   "metadata": {},
   "source": [
    "### Dictionary Methods\n",
    "\n",
    "- `.keys()` used to show the keys in a dictionary\n",
    "- `.items()` used to create a key-value tuple\n",
    "- `.get()` used to return the value of a key\n",
    "- `.clear()` clears the entire dictionary\n",
    "- `.copy()` used to copy a dictionary"
   ]
  },
  {
   "cell_type": "code",
   "execution_count": 10,
   "id": "ccf3c6b2",
   "metadata": {},
   "outputs": [
    {
     "data": {
      "text/plain": [
       "[False, 3.14, 'NEW']"
      ]
     },
     "execution_count": 10,
     "metadata": {},
     "output_type": "execute_result"
    }
   ],
   "source": [
    "list(d.keys())"
   ]
  },
  {
   "cell_type": "code",
   "execution_count": 11,
   "id": "4af34a78",
   "metadata": {},
   "outputs": [
    {
     "data": {
      "text/plain": [
       "dict_items([(False, 'This is my False value'), (3.14, [3, 1, 4]), ('NEW', 'NEW VALUE')])"
      ]
     },
     "execution_count": 11,
     "metadata": {},
     "output_type": "execute_result"
    }
   ],
   "source": [
    "d.items()"
   ]
  },
  {
   "cell_type": "code",
   "execution_count": 14,
   "id": "ce99ebd0",
   "metadata": {},
   "outputs": [
    {
     "data": {
      "text/plain": [
       "0"
      ]
     },
     "execution_count": 14,
     "metadata": {},
     "output_type": "execute_result"
    }
   ],
   "source": [
    "d.get('not exists in dict', 0)"
   ]
  },
  {
   "cell_type": "code",
   "execution_count": 18,
   "id": "0ec20f01",
   "metadata": {},
   "outputs": [],
   "source": [
    "d['foo'] = d.get('foo', 0) + 1"
   ]
  },
  {
   "cell_type": "code",
   "execution_count": 19,
   "id": "1b02802d",
   "metadata": {},
   "outputs": [
    {
     "data": {
      "text/plain": [
       "{False: 'This is my False value',\n",
       " 3.14: [3, 1, 4],\n",
       " 'NEW': 'NEW VALUE',\n",
       " 'foo': 2}"
      ]
     },
     "execution_count": 19,
     "metadata": {},
     "output_type": "execute_result"
    }
   ],
   "source": [
    "d"
   ]
  },
  {
   "cell_type": "code",
   "execution_count": 20,
   "id": "5a44583f",
   "metadata": {},
   "outputs": [],
   "source": [
    "d.clear()"
   ]
  },
  {
   "cell_type": "code",
   "execution_count": 21,
   "id": "aeb0cd93",
   "metadata": {},
   "outputs": [
    {
     "data": {
      "text/plain": [
       "{}"
      ]
     },
     "execution_count": 21,
     "metadata": {},
     "output_type": "execute_result"
    }
   ],
   "source": [
    "d"
   ]
  },
  {
   "cell_type": "code",
   "execution_count": 22,
   "id": "0b37349c",
   "metadata": {},
   "outputs": [
    {
     "data": {
      "text/plain": [
       "{'Tom': 32, 'Jess': 29, 'Pete': 18}"
      ]
     },
     "execution_count": 22,
     "metadata": {},
     "output_type": "execute_result"
    }
   ],
   "source": [
    "p_ages.copy()"
   ]
  },
  {
   "cell_type": "code",
   "execution_count": null,
   "id": "52031f83",
   "metadata": {},
   "outputs": [],
   "source": []
  },
  {
   "cell_type": "markdown",
   "id": "eee97558",
   "metadata": {},
   "source": [
    "### Dictionary Operators\n",
    "\n",
    "- The merge operator `|` will merge two dictionaries together.\n",
    "\n",
    "```Python\n",
    "dict1 = {'x': 1, 'y':2}\n",
    "dict2 = {'a':11, 'b':22}\n",
    "\n",
    "dict3 =  dict1 | dict2\n",
    "```\n",
    "\n",
    "Update a dictionary.\n",
    "```Python\n",
    "dict1 = {'x': 1, 'y':2}\n",
    "dict2 = {'a':11, 'b':22}\n",
    "\n",
    "dict1 |= dict2\n",
    "```"
   ]
  },
  {
   "cell_type": "code",
   "execution_count": 23,
   "id": "b8092bda",
   "metadata": {},
   "outputs": [],
   "source": [
    "dict1 = {'x': 1, 'y':2}\n",
    "dict2 = {'a':11, 'b':22}"
   ]
  },
  {
   "cell_type": "code",
   "execution_count": 24,
   "id": "1d9fb68d",
   "metadata": {},
   "outputs": [],
   "source": [
    "dict3 =  dict1 | dict2"
   ]
  },
  {
   "cell_type": "code",
   "execution_count": 25,
   "id": "be3053c9",
   "metadata": {},
   "outputs": [
    {
     "data": {
      "text/plain": [
       "{'x': 1, 'y': 2, 'a': 11, 'b': 22}"
      ]
     },
     "execution_count": 25,
     "metadata": {},
     "output_type": "execute_result"
    }
   ],
   "source": [
    "dict3"
   ]
  },
  {
   "cell_type": "code",
   "execution_count": 26,
   "id": "ec94e280",
   "metadata": {},
   "outputs": [
    {
     "data": {
      "text/plain": [
       "{'x': 1, 'y': 2, 'a': 11, 'b': 22}"
      ]
     },
     "execution_count": 26,
     "metadata": {},
     "output_type": "execute_result"
    }
   ],
   "source": [
    "dict1 = {'x': 1, 'y':2}\n",
    "dict2 = {'a':11, 'b':22}\n",
    "\n",
    "dict1 |= dict2\n",
    "dict1"
   ]
  },
  {
   "cell_type": "code",
   "execution_count": null,
   "id": "835d6a0e",
   "metadata": {},
   "outputs": [],
   "source": []
  },
  {
   "cell_type": "markdown",
   "id": "6f9e4041",
   "metadata": {},
   "source": [
    "### Useful Built-in Functions\n",
    "\n",
    "- `len()` used to get the length of a dictionary\n",
    "- `type()` used to tell the type \n",
    "- `min()` used to identify the key with the lowest value\n",
    "- `max()` used to identify the key with the highest value"
   ]
  },
  {
   "cell_type": "code",
   "execution_count": 27,
   "id": "d73b2ab0",
   "metadata": {},
   "outputs": [
    {
     "data": {
      "text/plain": [
       "4"
      ]
     },
     "execution_count": 27,
     "metadata": {},
     "output_type": "execute_result"
    }
   ],
   "source": [
    "len(dict1)"
   ]
  },
  {
   "cell_type": "code",
   "execution_count": 29,
   "id": "5d50f5f0",
   "metadata": {},
   "outputs": [
    {
     "data": {
      "text/plain": [
       "int"
      ]
     },
     "execution_count": 29,
     "metadata": {},
     "output_type": "execute_result"
    }
   ],
   "source": [
    "type(dict1['x'])"
   ]
  },
  {
   "cell_type": "code",
   "execution_count": 31,
   "id": "8bb06538",
   "metadata": {},
   "outputs": [
    {
     "data": {
      "text/plain": [
       "'y'"
      ]
     },
     "execution_count": 31,
     "metadata": {},
     "output_type": "execute_result"
    }
   ],
   "source": [
    "max(dict1)"
   ]
  },
  {
   "cell_type": "markdown",
   "id": "81eaf163",
   "metadata": {},
   "source": [
    "### Exercises\n",
    "\n",
    "[11 Exercises About Python Dictionaries](https://holypython.com/beginner-python-exercises/exercise-8-python-dictionaries/)"
   ]
  },
  {
   "cell_type": "code",
   "execution_count": null,
   "id": "9314d925",
   "metadata": {},
   "outputs": [],
   "source": []
  }
 ],
 "metadata": {
  "kernelspec": {
   "display_name": "Python 3 (ipykernel)",
   "language": "python",
   "name": "python3"
  },
  "language_info": {
   "codemirror_mode": {
    "name": "ipython",
    "version": 3
   },
   "file_extension": ".py",
   "mimetype": "text/x-python",
   "name": "python",
   "nbconvert_exporter": "python",
   "pygments_lexer": "ipython3",
   "version": "3.9.13"
  }
 },
 "nbformat": 4,
 "nbformat_minor": 5
}
