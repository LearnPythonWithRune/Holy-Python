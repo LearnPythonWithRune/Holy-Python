{
 "cells": [
  {
   "cell_type": "markdown",
   "id": "5eef6844",
   "metadata": {},
   "source": [
    "# Python Strings\n",
    "\n",
    "Strings are always represented in quotes in Python.\n",
    "\n",
    "```Python\n",
    "msg = 'A giant leap for mankind'\n",
    "dq_msg = \"A giant leap for mankind\"\n",
    "```"
   ]
  },
  {
   "cell_type": "code",
   "execution_count": 2,
   "id": "584fe33f",
   "metadata": {},
   "outputs": [
    {
     "data": {
      "text/plain": [
       "'l'"
      ]
     },
     "execution_count": 2,
     "metadata": {},
     "output_type": "execute_result"
    }
   ],
   "source": [
    "msg = 'A giant leap for mankind'\n",
    "\n",
    "msg[8]"
   ]
  },
  {
   "cell_type": "markdown",
   "id": "919438df",
   "metadata": {},
   "source": [
    "### String Methods\n",
    "\n",
    "- `.replace()` used to change substrings in a string"
   ]
  },
  {
   "cell_type": "code",
   "execution_count": 4,
   "id": "223b89bd",
   "metadata": {},
   "outputs": [
    {
     "data": {
      "text/plain": [
       "'A+_+giant+_+leap+_+for+_+mankind'"
      ]
     },
     "execution_count": 4,
     "metadata": {},
     "output_type": "execute_result"
    }
   ],
   "source": [
    "msg.replace(' ', '+_+')"
   ]
  },
  {
   "cell_type": "code",
   "execution_count": 5,
   "id": "5ce08266",
   "metadata": {},
   "outputs": [
    {
     "data": {
      "text/plain": [
       "'A giant loop for mankind'"
      ]
     },
     "execution_count": 5,
     "metadata": {},
     "output_type": "execute_result"
    }
   ],
   "source": [
    "msg.replace('leap', 'loop')"
   ]
  },
  {
   "cell_type": "markdown",
   "id": "7bc17b6a",
   "metadata": {},
   "source": [
    "- `.lower()` used to change a string’s characters to lower characters\n",
    "- `.upper()` used to change a string’s characters to capital letters\n",
    "- `.capitalize()` used to convert first character of the string to capital letter."
   ]
  },
  {
   "cell_type": "code",
   "execution_count": 6,
   "id": "0a27a9fa",
   "metadata": {},
   "outputs": [
    {
     "data": {
      "text/plain": [
       "'a giant leap for mankind'"
      ]
     },
     "execution_count": 6,
     "metadata": {},
     "output_type": "execute_result"
    }
   ],
   "source": [
    "msg.lower()"
   ]
  },
  {
   "cell_type": "code",
   "execution_count": 7,
   "id": "6af5b631",
   "metadata": {},
   "outputs": [
    {
     "data": {
      "text/plain": [
       "'A GIANT LEAP FOR MANKIND'"
      ]
     },
     "execution_count": 7,
     "metadata": {},
     "output_type": "execute_result"
    }
   ],
   "source": [
    "msg.upper()"
   ]
  },
  {
   "cell_type": "code",
   "execution_count": 9,
   "id": "afaccc1f",
   "metadata": {},
   "outputs": [
    {
     "data": {
      "text/plain": [
       "'A giant leap for mankind'"
      ]
     },
     "execution_count": 9,
     "metadata": {},
     "output_type": "execute_result"
    }
   ],
   "source": [
    "msg = 'a Giant Leap for mankind'\n",
    "msg.capitalize()"
   ]
  },
  {
   "cell_type": "markdown",
   "id": "10e42eb6",
   "metadata": {},
   "source": [
    "- `.startswith()` used to check if the string starts with a specified letter\n",
    "- `.endswith()` used to check if the string ends with a specified letter"
   ]
  },
  {
   "cell_type": "code",
   "execution_count": 11,
   "id": "392c2f45",
   "metadata": {},
   "outputs": [
    {
     "data": {
      "text/plain": [
       "False"
      ]
     },
     "execution_count": 11,
     "metadata": {},
     "output_type": "execute_result"
    }
   ],
   "source": [
    "msg = 'A giant leap for mankind'\n",
    "msg.startswith('A foo bar')"
   ]
  },
  {
   "cell_type": "code",
   "execution_count": 14,
   "id": "732d33ac",
   "metadata": {},
   "outputs": [
    {
     "data": {
      "text/plain": [
       "False"
      ]
     },
     "execution_count": 14,
     "metadata": {},
     "output_type": "execute_result"
    }
   ],
   "source": [
    "msg.endswith('manking')"
   ]
  },
  {
   "cell_type": "markdown",
   "id": "8fbf5c96",
   "metadata": {},
   "source": [
    "- `.join()` a very useful string method used to join a specified string to the string\n",
    "- `.split()` another very useful method used to split a string based on the specified character(s)"
   ]
  },
  {
   "cell_type": "code",
   "execution_count": 15,
   "id": "6e5a3a8b",
   "metadata": {},
   "outputs": [
    {
     "data": {
      "text/plain": [
       "['A', 'giant', 'leap', 'for', 'mankind']"
      ]
     },
     "execution_count": 15,
     "metadata": {},
     "output_type": "execute_result"
    }
   ],
   "source": [
    "msg.split()"
   ]
  },
  {
   "cell_type": "code",
   "execution_count": 16,
   "id": "e54e82a9",
   "metadata": {},
   "outputs": [
    {
     "data": {
      "text/plain": [
       "'1, 2, 3'"
      ]
     },
     "execution_count": 16,
     "metadata": {},
     "output_type": "execute_result"
    }
   ],
   "source": [
    "', '.join(['1', '2', '3'])"
   ]
  },
  {
   "cell_type": "code",
   "execution_count": 17,
   "id": "0b16deea",
   "metadata": {},
   "outputs": [
    {
     "data": {
      "text/plain": [
       "'A_giant_leap_for_mankind'"
      ]
     },
     "execution_count": 17,
     "metadata": {},
     "output_type": "execute_result"
    }
   ],
   "source": [
    "'_'.join(msg.split())"
   ]
  },
  {
   "cell_type": "markdown",
   "id": "85eee491",
   "metadata": {},
   "source": [
    "- `.strip()` used to strip a string of specified characters including empty spaces"
   ]
  },
  {
   "cell_type": "code",
   "execution_count": 21,
   "id": "21fafc8b",
   "metadata": {},
   "outputs": [
    {
     "data": {
      "text/plain": [
       "'A giant leap for mankind'"
      ]
     },
     "execution_count": 21,
     "metadata": {},
     "output_type": "execute_result"
    }
   ],
   "source": [
    "msg = '      A giant leap for mankind     '\n",
    "msg.strip()"
   ]
  },
  {
   "cell_type": "code",
   "execution_count": null,
   "id": "d8b9068c",
   "metadata": {},
   "outputs": [],
   "source": []
  },
  {
   "cell_type": "code",
   "execution_count": null,
   "id": "cb53169b",
   "metadata": {},
   "outputs": [],
   "source": []
  },
  {
   "cell_type": "markdown",
   "id": "8a97f751",
   "metadata": {},
   "source": [
    "- `.index()` used to identify a character’s index in a string\n",
    "- `.find()` also used to find a character’s index in a string. find and index are very similar with a small difference which we will explain.\n",
    "- `.count()` used to count a sub-string in a string"
   ]
  },
  {
   "cell_type": "code",
   "execution_count": 23,
   "id": "0a11e8cf",
   "metadata": {},
   "outputs": [
    {
     "ename": "ValueError",
     "evalue": "substring not found",
     "output_type": "error",
     "traceback": [
      "\u001b[0;31m---------------------------------------------------------------------------\u001b[0m",
      "\u001b[0;31mValueError\u001b[0m                                Traceback (most recent call last)",
      "\u001b[0;32m/var/folders/5f/vgbh9pkd4wzf4ysrpf9wsr800000gn/T/ipykernel_93770/4277671762.py\u001b[0m in \u001b[0;36m<module>\u001b[0;34m\u001b[0m\n\u001b[1;32m      1\u001b[0m \u001b[0mmsg\u001b[0m \u001b[0;34m=\u001b[0m \u001b[0;34m'A giant leap for mankind'\u001b[0m\u001b[0;34m\u001b[0m\u001b[0;34m\u001b[0m\u001b[0m\n\u001b[0;32m----> 2\u001b[0;31m \u001b[0mmsg\u001b[0m\u001b[0;34m.\u001b[0m\u001b[0mindex\u001b[0m\u001b[0;34m(\u001b[0m\u001b[0;34m'foo'\u001b[0m\u001b[0;34m)\u001b[0m\u001b[0;34m\u001b[0m\u001b[0;34m\u001b[0m\u001b[0m\n\u001b[0m",
      "\u001b[0;31mValueError\u001b[0m: substring not found"
     ]
    }
   ],
   "source": [
    "msg = 'A giant leap for mankind'\n",
    "msg.index('foo')"
   ]
  },
  {
   "cell_type": "code",
   "execution_count": 25,
   "id": "fef2c631",
   "metadata": {},
   "outputs": [
    {
     "data": {
      "text/plain": [
       "8"
      ]
     },
     "execution_count": 25,
     "metadata": {},
     "output_type": "execute_result"
    }
   ],
   "source": [
    "msg.find('leap')"
   ]
  },
  {
   "cell_type": "code",
   "execution_count": 26,
   "id": "eb782c44",
   "metadata": {},
   "outputs": [
    {
     "data": {
      "text/plain": [
       "4"
      ]
     },
     "execution_count": 26,
     "metadata": {},
     "output_type": "execute_result"
    }
   ],
   "source": [
    "msg.count(' ')"
   ]
  },
  {
   "cell_type": "code",
   "execution_count": null,
   "id": "210192be",
   "metadata": {},
   "outputs": [],
   "source": []
  },
  {
   "cell_type": "markdown",
   "id": "878a4ccb",
   "metadata": {},
   "source": [
    "### Exercises\n",
    "\n",
    "[14 Exercises About Python Strings](https://holypython.com/beginner-python-exercises/exercise-9-python-strings/)"
   ]
  },
  {
   "cell_type": "code",
   "execution_count": null,
   "id": "07718dc8",
   "metadata": {},
   "outputs": [],
   "source": []
  }
 ],
 "metadata": {
  "kernelspec": {
   "display_name": "Python 3 (ipykernel)",
   "language": "python",
   "name": "python3"
  },
  "language_info": {
   "codemirror_mode": {
    "name": "ipython",
    "version": 3
   },
   "file_extension": ".py",
   "mimetype": "text/x-python",
   "name": "python",
   "nbconvert_exporter": "python",
   "pygments_lexer": "ipython3",
   "version": "3.9.13"
  }
 },
 "nbformat": 4,
 "nbformat_minor": 5
}
