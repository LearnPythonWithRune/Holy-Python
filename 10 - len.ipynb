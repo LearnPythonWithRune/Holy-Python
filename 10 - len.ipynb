{
 "cells": [
  {
   "cell_type": "markdown",
   "id": "655893ff",
   "metadata": {},
   "source": [
    "# Python `len()` Function\n",
    "\n",
    "Python len() function is very straightforward and easy to use.\n",
    "\n",
    "- It is used to find out how many elements there are in different types of data.\n",
    "\n",
    "If `len()` is applied on\n",
    "- `str` it will return the number of characters in the string\n",
    "- `list` it will return the number of elements in the list\n",
    "- `tuple` it will return the number of elements in the tuple\n",
    "- `dict` it will return the number of keys in the dictionary\n",
    "\n",
    "...and so on"
   ]
  },
  {
   "cell_type": "code",
   "execution_count": 1,
   "id": "55910d9a",
   "metadata": {},
   "outputs": [
    {
     "data": {
      "text/plain": [
       "24"
      ]
     },
     "execution_count": 1,
     "metadata": {},
     "output_type": "execute_result"
    }
   ],
   "source": [
    "msg = 'A giant leap for mankind'\n",
    "len(msg)"
   ]
  },
  {
   "cell_type": "code",
   "execution_count": 2,
   "id": "da182fc9",
   "metadata": {},
   "outputs": [
    {
     "data": {
      "text/plain": [
       "7"
      ]
     },
     "execution_count": 2,
     "metadata": {},
     "output_type": "execute_result"
    }
   ],
   "source": [
    "lst = [1, 2, 3, 4, 5, 6, 7]\n",
    "\n",
    "len(lst)"
   ]
  },
  {
   "cell_type": "code",
   "execution_count": 4,
   "id": "aab06f44",
   "metadata": {},
   "outputs": [
    {
     "data": {
      "text/plain": [
       "5"
      ]
     },
     "execution_count": 4,
     "metadata": {},
     "output_type": "execute_result"
    }
   ],
   "source": [
    "t = (1, 2, 3, 4.23, '5')\n",
    "\n",
    "len(t)"
   ]
  },
  {
   "cell_type": "code",
   "execution_count": 6,
   "id": "96f5b66c",
   "metadata": {},
   "outputs": [
    {
     "data": {
      "text/plain": [
       "2"
      ]
     },
     "execution_count": 6,
     "metadata": {},
     "output_type": "execute_result"
    }
   ],
   "source": [
    "d = {'k': 1, 'k1': [3, 3, 4, 5]}\n",
    "\n",
    "len(d)"
   ]
  },
  {
   "cell_type": "code",
   "execution_count": null,
   "id": "6a8504f1",
   "metadata": {},
   "outputs": [],
   "source": []
  },
  {
   "cell_type": "markdown",
   "id": "34c3a1f9",
   "metadata": {},
   "source": [
    "### Exercises\n",
    "\n",
    "[5 Exercises About Python’s len() function](https://holypython.com/beginner-python-exercises/exercise-10-len-function/)"
   ]
  },
  {
   "cell_type": "code",
   "execution_count": null,
   "id": "0a3cb919",
   "metadata": {},
   "outputs": [],
   "source": []
  }
 ],
 "metadata": {
  "kernelspec": {
   "display_name": "Python 3 (ipykernel)",
   "language": "python",
   "name": "python3"
  },
  "language_info": {
   "codemirror_mode": {
    "name": "ipython",
    "version": 3
   },
   "file_extension": ".py",
   "mimetype": "text/x-python",
   "name": "python",
   "nbconvert_exporter": "python",
   "pygments_lexer": "ipython3",
   "version": "3.9.13"
  }
 },
 "nbformat": 4,
 "nbformat_minor": 5
}
