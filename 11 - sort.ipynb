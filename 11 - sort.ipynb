{
 "cells": [
  {
   "cell_type": "markdown",
   "id": "9b4537d6",
   "metadata": {},
   "source": [
    "# Python `.sort()` Method\n",
    "\n",
    "The `.sort()` method is very useful and practical list method. It will sort the objects inside a list."
   ]
  },
  {
   "cell_type": "markdown",
   "id": "39f12b83",
   "metadata": {},
   "source": [
    "### Sort Numbers\n",
    "\n",
    "Sort a list of numbers (`int` and `float`)"
   ]
  },
  {
   "cell_type": "code",
   "execution_count": 2,
   "id": "68665a9e",
   "metadata": {},
   "outputs": [
    {
     "data": {
      "text/plain": [
       "[100, 400, 500.0, 750]"
      ]
     },
     "execution_count": 2,
     "metadata": {},
     "output_type": "execute_result"
    }
   ],
   "source": [
    "lst = [400, 750, 500.0, 100]\n",
    "\n",
    "lst.sort()\n",
    "\n",
    "lst"
   ]
  },
  {
   "cell_type": "code",
   "execution_count": null,
   "id": "98a8e7dd",
   "metadata": {},
   "outputs": [],
   "source": []
  },
  {
   "cell_type": "markdown",
   "id": "d7f3af21",
   "metadata": {},
   "source": [
    "### Stort Strings\n",
    "\n",
    "Sort a list of strings."
   ]
  },
  {
   "cell_type": "code",
   "execution_count": 3,
   "id": "954d5a12",
   "metadata": {},
   "outputs": [
    {
     "data": {
      "text/plain": [
       "['a', 'aa', 'aaab', 'abab', 'bb']"
      ]
     },
     "execution_count": 3,
     "metadata": {},
     "output_type": "execute_result"
    }
   ],
   "source": [
    "lst = ['aaab', 'abab', 'bb', 'aa', 'a']\n",
    "\n",
    "lst.sort()\n",
    "\n",
    "lst"
   ]
  },
  {
   "cell_type": "code",
   "execution_count": 5,
   "id": "cf0eca21",
   "metadata": {},
   "outputs": [
    {
     "ename": "TypeError",
     "evalue": "'<' not supported between instances of 'str' and 'int'",
     "output_type": "error",
     "traceback": [
      "\u001b[0;31m---------------------------------------------------------------------------\u001b[0m",
      "\u001b[0;31mTypeError\u001b[0m                                 Traceback (most recent call last)",
      "\u001b[0;32m/var/folders/5f/vgbh9pkd4wzf4ysrpf9wsr800000gn/T/ipykernel_93984/4263853879.py\u001b[0m in \u001b[0;36m<module>\u001b[0;34m\u001b[0m\n\u001b[1;32m      1\u001b[0m \u001b[0mlst\u001b[0m \u001b[0;34m=\u001b[0m \u001b[0;34m[\u001b[0m\u001b[0;36m1\u001b[0m\u001b[0;34m,\u001b[0m \u001b[0;34m'2'\u001b[0m\u001b[0;34m]\u001b[0m\u001b[0;34m\u001b[0m\u001b[0;34m\u001b[0m\u001b[0m\n\u001b[0;32m----> 2\u001b[0;31m \u001b[0mlst\u001b[0m\u001b[0;34m.\u001b[0m\u001b[0msort\u001b[0m\u001b[0;34m(\u001b[0m\u001b[0;34m)\u001b[0m\u001b[0;34m\u001b[0m\u001b[0;34m\u001b[0m\u001b[0m\n\u001b[0m",
      "\u001b[0;31mTypeError\u001b[0m: '<' not supported between instances of 'str' and 'int'"
     ]
    }
   ],
   "source": [
    "lst = [1, '2']\n",
    "lst.sort()"
   ]
  },
  {
   "cell_type": "markdown",
   "id": "53af98d2",
   "metadata": {},
   "source": [
    "### Sort in reverse"
   ]
  },
  {
   "cell_type": "code",
   "execution_count": 6,
   "id": "8c321269",
   "metadata": {},
   "outputs": [
    {
     "data": {
      "text/plain": [
       "[5, 4, 3, 2, 1]"
      ]
     },
     "execution_count": 6,
     "metadata": {},
     "output_type": "execute_result"
    }
   ],
   "source": [
    "lst = [3, 1, 5, 2, 4]\n",
    "\n",
    "lst.sort(reverse=True)\n",
    "lst"
   ]
  },
  {
   "cell_type": "code",
   "execution_count": null,
   "id": "40d94201",
   "metadata": {},
   "outputs": [],
   "source": []
  },
  {
   "cell_type": "markdown",
   "id": "c4c4033f",
   "metadata": {},
   "source": [
    "### Sort with a function\n",
    "\n"
   ]
  },
  {
   "cell_type": "code",
   "execution_count": 7,
   "id": "d39ce170",
   "metadata": {},
   "outputs": [
    {
     "data": {
      "text/plain": [
       "[[-2, -45], [4, 1], [2, 4]]"
      ]
     },
     "execution_count": 7,
     "metadata": {},
     "output_type": "execute_result"
    }
   ],
   "source": [
    "lst = [[2, 4], [4, 1], [-2, -45]]\n",
    "\n",
    "lst.sort(key=sum)\n",
    "lst"
   ]
  },
  {
   "cell_type": "code",
   "execution_count": null,
   "id": "9e5cfafb",
   "metadata": {},
   "outputs": [],
   "source": []
  },
  {
   "cell_type": "code",
   "execution_count": null,
   "id": "d0ec4d2c",
   "metadata": {},
   "outputs": [],
   "source": []
  },
  {
   "cell_type": "markdown",
   "id": "75d5e1e5",
   "metadata": {},
   "source": [
    "### Exercises\n",
    "\n",
    "[7 Exercises About Python’s sort () method](https://holypython.com/beginner-python-exercises/exercise-11-sort-method/)"
   ]
  },
  {
   "cell_type": "code",
   "execution_count": null,
   "id": "9e90cd45",
   "metadata": {},
   "outputs": [],
   "source": []
  }
 ],
 "metadata": {
  "kernelspec": {
   "display_name": "Python 3 (ipykernel)",
   "language": "python",
   "name": "python3"
  },
  "language_info": {
   "codemirror_mode": {
    "name": "ipython",
    "version": 3
   },
   "file_extension": ".py",
   "mimetype": "text/x-python",
   "name": "python",
   "nbconvert_exporter": "python",
   "pygments_lexer": "ipython3",
   "version": "3.9.13"
  }
 },
 "nbformat": 4,
 "nbformat_minor": 5
}
