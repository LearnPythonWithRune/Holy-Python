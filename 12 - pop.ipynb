{
 "cells": [
  {
   "cell_type": "markdown",
   "id": "7d9c49e7",
   "metadata": {},
   "source": [
    "# Python `.pop()` Method\n",
    "\n",
    "The `.pop()` method is useful for removing the last element (or an element at a specific index) from a list and on top of that it will return the removed item.\n",
    "\n",
    "Notice\n",
    "- It also works with dictionaries if you pass the key value you’re looking for."
   ]
  },
  {
   "cell_type": "code",
   "execution_count": 1,
   "id": "01cbe100",
   "metadata": {},
   "outputs": [
    {
     "name": "stdout",
     "output_type": "stream",
     "text": [
      "Oleg\n",
      "['Joe', 'Liam']\n"
     ]
    }
   ],
   "source": [
    "peeps = ['Joe', 'Liam', 'Oleg']\n",
    "\n",
    "elem = peeps.pop()\n",
    "\n",
    "print(elem)\n",
    "print(peeps)"
   ]
  },
  {
   "cell_type": "code",
   "execution_count": null,
   "id": "88eb616c",
   "metadata": {},
   "outputs": [],
   "source": []
  },
  {
   "cell_type": "markdown",
   "id": "d71a2942",
   "metadata": {},
   "source": [
    "### `.pop(0)` with index"
   ]
  },
  {
   "cell_type": "code",
   "execution_count": 2,
   "id": "1bc3b1e1",
   "metadata": {},
   "outputs": [
    {
     "name": "stdout",
     "output_type": "stream",
     "text": [
      "Joe\n",
      "['Liam', 'Oleg']\n"
     ]
    }
   ],
   "source": [
    "peeps = ['Joe', 'Liam', 'Oleg']\n",
    "\n",
    "elem = peeps.pop(0)\n",
    "\n",
    "print(elem)\n",
    "print(peeps)"
   ]
  },
  {
   "cell_type": "code",
   "execution_count": null,
   "id": "ff69efd1",
   "metadata": {},
   "outputs": [],
   "source": []
  },
  {
   "cell_type": "markdown",
   "id": "b420e236",
   "metadata": {},
   "source": [
    "### `.pop()` on dictionaries"
   ]
  },
  {
   "cell_type": "code",
   "execution_count": 3,
   "id": "4f17ee5e",
   "metadata": {},
   "outputs": [
    {
     "name": "stdout",
     "output_type": "stream",
     "text": [
      "bar\n",
      "{'test': 'test'}\n"
     ]
    }
   ],
   "source": [
    "my_dict = {\n",
    "    'foo': 'bar',\n",
    "    'test': 'test'\n",
    "}\n",
    "\n",
    "elem = my_dict.pop('foo')\n",
    "\n",
    "print(elem)\n",
    "print(my_dict)"
   ]
  },
  {
   "cell_type": "code",
   "execution_count": null,
   "id": "990153c6",
   "metadata": {},
   "outputs": [],
   "source": []
  },
  {
   "cell_type": "code",
   "execution_count": null,
   "id": "09cd051d",
   "metadata": {},
   "outputs": [],
   "source": []
  },
  {
   "cell_type": "code",
   "execution_count": null,
   "id": "95f11b16",
   "metadata": {},
   "outputs": [],
   "source": []
  },
  {
   "cell_type": "code",
   "execution_count": null,
   "id": "f4fbee1c",
   "metadata": {},
   "outputs": [],
   "source": []
  },
  {
   "cell_type": "markdown",
   "id": "f8da3fc8",
   "metadata": {},
   "source": [
    "### Exercises\n",
    "\n",
    "[3 Exercises About Python’s pop method](https://holypython.com/beginner-python-exercises/exercise-12-pop-method/)"
   ]
  },
  {
   "cell_type": "code",
   "execution_count": null,
   "id": "d208bba8",
   "metadata": {},
   "outputs": [],
   "source": []
  }
 ],
 "metadata": {
  "kernelspec": {
   "display_name": "Python 3 (ipykernel)",
   "language": "python",
   "name": "python3"
  },
  "language_info": {
   "codemirror_mode": {
    "name": "ipython",
    "version": 3
   },
   "file_extension": ".py",
   "mimetype": "text/x-python",
   "name": "python",
   "nbconvert_exporter": "python",
   "pygments_lexer": "ipython3",
   "version": "3.9.13"
  }
 },
 "nbformat": 4,
 "nbformat_minor": 5
}
