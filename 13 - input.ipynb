{
 "cells": [
  {
   "cell_type": "markdown",
   "id": "c3505326",
   "metadata": {},
   "source": [
    "# Python `input()` Function\n",
    "\n",
    "The `input()` function allows getting user’s input in string format.\n",
    "\n",
    "- Type your message inside `input('Message')`, this will be displayed to the user.\n",
    "- The user will be shown a message or asked a question accordingly. \n",
    "- After that, whatever they enter will be the value of your variable."
   ]
  },
  {
   "cell_type": "code",
   "execution_count": 1,
   "id": "7f1aa466",
   "metadata": {},
   "outputs": [
    {
     "name": "stdout",
     "output_type": "stream",
     "text": [
      "Type your name: Rune\n"
     ]
    }
   ],
   "source": [
    "name = input('Type your name: ')"
   ]
  },
  {
   "cell_type": "code",
   "execution_count": 2,
   "id": "9aa0a69a",
   "metadata": {},
   "outputs": [
    {
     "data": {
      "text/plain": [
       "'Rune'"
      ]
     },
     "execution_count": 2,
     "metadata": {},
     "output_type": "execute_result"
    }
   ],
   "source": [
    "name"
   ]
  },
  {
   "cell_type": "code",
   "execution_count": 3,
   "id": "cb311bb6",
   "metadata": {},
   "outputs": [
    {
     "name": "stdout",
     "output_type": "stream",
     "text": [
      "What is your age? 20\n",
      "20\n",
      "<class 'str'>\n"
     ]
    }
   ],
   "source": [
    "age = input('What is your age? ')\n",
    "\n",
    "print(age)\n",
    "print(type(age))"
   ]
  },
  {
   "cell_type": "code",
   "execution_count": 4,
   "id": "6b9b7c0c",
   "metadata": {},
   "outputs": [
    {
     "data": {
      "text/plain": [
       "20"
      ]
     },
     "execution_count": 4,
     "metadata": {},
     "output_type": "execute_result"
    }
   ],
   "source": [
    "int(age)"
   ]
  },
  {
   "cell_type": "markdown",
   "id": "70ab1c2d",
   "metadata": {},
   "source": [
    "### Input program with dictionary\n",
    "\n",
    "In this little example yet again we see so many programming concepts working in harmony. \n",
    "\n",
    "Specifically for Python we se\n",
    "- dictionary\n",
    "- conditional statement\n",
    "- `input()` function\n",
    "- `format()` method\n",
    "- Python strings’ `capitalize()` method\n",
    "\n",
    "\n",
    "```Python\n",
    "### Birthday Checker\n",
    "birthday_list={\n",
    "    'mom': '1/5/1862', \n",
    "    'dad': '5/20/1860',\n",
    "    'son': '8/12/1930', \n",
    "    'sister': '10/15/1885'\n",
    "}\n",
    "\n",
    "answer=input(\"Family member please\")\n",
    "\n",
    "if answer in birthday_list:\n",
    "    print(\"{}'s birthday is {}\".format(answer.capitalize(), birthday_list[answer]))\n",
    "else: \n",
    "    print(\"No record\")\n",
    "```"
   ]
  },
  {
   "cell_type": "code",
   "execution_count": 7,
   "id": "a220af23",
   "metadata": {},
   "outputs": [
    {
     "name": "stdout",
     "output_type": "stream",
     "text": [
      "Family member pleaseson\n",
      "Son's birthday is 8/12/1930\n"
     ]
    }
   ],
   "source": [
    "### Birthday Checker\n",
    "birthday_list={\n",
    "    'mom': '1/5/1862', \n",
    "    'dad': '5/20/1860',\n",
    "    'son': '8/12/1930', \n",
    "    'sister': '10/15/1885'\n",
    "}\n",
    "\n",
    "answer=input(\"Family member please\")\n",
    "\n",
    "if answer in birthday_list:\n",
    "    print(\"{}'s birthday is {}\".format(answer.capitalize(), birthday_list[answer]))\n",
    "else: \n",
    "    print(\"No record\")"
   ]
  },
  {
   "cell_type": "code",
   "execution_count": null,
   "id": "ef68bc2e",
   "metadata": {},
   "outputs": [],
   "source": []
  },
  {
   "cell_type": "markdown",
   "id": "2ce4b246",
   "metadata": {},
   "source": [
    "### Input function use cases\n",
    "\n",
    "It’s just a little example to demonstrate what can possibly be achieved using Python’s input function. What other examples come to your mind? Here  are some ideas:\n",
    "\n",
    "- **Search engine** In fact search engines we using many times everyday such as Google, Ecosia, Duck or Bing do something very similar to this. They take your input which creates a search query in their global servers and returns a search result.- \n",
    "- **Database search** You could also do it for a database. Get the input and program will search the database. Of course, getting the input is the easy part, search algorithm, maybe a smart search function with Artificial Intelligence and suitable computer program for it would be the real work.\n",
    "- **Command execution** You could also execute specific commands based on the inputs. Imagine something like, turn on, turn off, turn up, turn down or close, open. You could even create your own program which opens the garage door when you type open. Although an on/off button would likely be more interesting. If you are interested in eventually developing such software you can check out this gui tutorial series with Python for ideas.\n",
    "- **User ID** You could also treat user inputs a little differently and collect information. You could ask users to enter their ID number or business ideas and make a collection of list or dictionaries."
   ]
  },
  {
   "cell_type": "markdown",
   "id": "0b006bb9",
   "metadata": {},
   "source": [
    "### Exercises\n",
    "\n",
    "[6 Exercises About Python’s input() function](https://holypython.com/beginner-python-exercises/exercise-13-input-function/)"
   ]
  },
  {
   "cell_type": "code",
   "execution_count": null,
   "id": "b4fd597c",
   "metadata": {},
   "outputs": [],
   "source": []
  }
 ],
 "metadata": {
  "kernelspec": {
   "display_name": "Python 3 (ipykernel)",
   "language": "python",
   "name": "python3"
  },
  "language_info": {
   "codemirror_mode": {
    "name": "ipython",
    "version": 3
   },
   "file_extension": ".py",
   "mimetype": "text/x-python",
   "name": "python",
   "nbconvert_exporter": "python",
   "pygments_lexer": "ipython3",
   "version": "3.9.13"
  }
 },
 "nbformat": 4,
 "nbformat_minor": 5
}
