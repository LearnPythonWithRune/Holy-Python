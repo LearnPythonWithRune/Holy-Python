{
 "cells": [
  {
   "cell_type": "markdown",
   "id": "97f91eed",
   "metadata": {},
   "source": [
    "# Python `range()` function\n",
    "\n",
    "There are different ways of using range() function.\n",
    "\n",
    "`range()` function can accept 3 parameters as below:\n",
    "\n",
    "```Python\n",
    "range(start, stop, step)\n",
    "```\n",
    "\n",
    "However, if you type only one number inside `range()` function, it will smartly assume start is 0 (zero), step is 1 and stop is the number you’ve specified.\n",
    "\n",
    "- `range(5)` will return a range of number from 0 to 5 (exclusive) increasing by 1\n",
    "```\n",
    "0, 1, 2, 3, 4\n",
    "```\n",
    "- `range(2, 8)` will return a range of numbers from 2 to 8 (8 exclusive) increasing by 1\n",
    "```\n",
    "2, 3, 4, 5, 6, 7\n",
    "```\n",
    "- `range(2, 13, 3)` will return a range of numbers from 2 to 13 (13 exclusive) increasing by 3\n",
    "```\n",
    "2, 5, 8, 11\n",
    "```\n"
   ]
  },
  {
   "cell_type": "code",
   "execution_count": null,
   "id": "9948a685",
   "metadata": {},
   "outputs": [],
   "source": []
  },
  {
   "cell_type": "code",
   "execution_count": null,
   "id": "094d3176",
   "metadata": {},
   "outputs": [],
   "source": []
  },
  {
   "cell_type": "code",
   "execution_count": null,
   "id": "85982995",
   "metadata": {},
   "outputs": [],
   "source": []
  },
  {
   "cell_type": "markdown",
   "id": "18e6e135",
   "metadata": {},
   "source": [
    "### Make a list from a range\n",
    "\n",
    "```Python\n",
    "rng = range(0, 15, 3)\n",
    "\n",
    "lst = list(rng)\n",
    "```"
   ]
  },
  {
   "cell_type": "code",
   "execution_count": null,
   "id": "84473888",
   "metadata": {},
   "outputs": [],
   "source": []
  },
  {
   "cell_type": "code",
   "execution_count": null,
   "id": "4bbad7f8",
   "metadata": {},
   "outputs": [],
   "source": []
  },
  {
   "cell_type": "code",
   "execution_count": null,
   "id": "c5a28b42",
   "metadata": {},
   "outputs": [],
   "source": []
  },
  {
   "cell_type": "markdown",
   "id": "af3754fc",
   "metadata": {},
   "source": [
    "### Descending order\n",
    "\n",
    "```Python\n",
    "rng = range(5, -5, -3)\n",
    "\n",
    "lst = list(rng)\n",
    "```"
   ]
  },
  {
   "cell_type": "code",
   "execution_count": null,
   "id": "0544812f",
   "metadata": {},
   "outputs": [],
   "source": []
  },
  {
   "cell_type": "code",
   "execution_count": null,
   "id": "10a1ede0",
   "metadata": {},
   "outputs": [],
   "source": []
  },
  {
   "cell_type": "code",
   "execution_count": null,
   "id": "dc22b9e1",
   "metadata": {},
   "outputs": [],
   "source": []
  },
  {
   "cell_type": "markdown",
   "id": "6d94bada",
   "metadata": {},
   "source": [
    "### Exercises\n",
    "\n",
    "[5 Exercises About Python’s range function](https://holypython.com/beginner-python-exercises/exercise-14-range-function/)"
   ]
  },
  {
   "cell_type": "code",
   "execution_count": null,
   "id": "8c449b61",
   "metadata": {},
   "outputs": [],
   "source": []
  },
  {
   "cell_type": "code",
   "execution_count": null,
   "id": "854dde45",
   "metadata": {},
   "outputs": [],
   "source": []
  }
 ],
 "metadata": {
  "kernelspec": {
   "display_name": "Python 3 (ipykernel)",
   "language": "python",
   "name": "python3"
  },
  "language_info": {
   "codemirror_mode": {
    "name": "ipython",
    "version": 3
   },
   "file_extension": ".py",
   "mimetype": "text/x-python",
   "name": "python",
   "nbconvert_exporter": "python",
   "pygments_lexer": "ipython3",
   "version": "3.9.13"
  }
 },
 "nbformat": 4,
 "nbformat_minor": 5
}
