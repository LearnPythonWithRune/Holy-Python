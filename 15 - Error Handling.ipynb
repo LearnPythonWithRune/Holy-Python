{
 "cells": [
  {
   "cell_type": "markdown",
   "id": "eb6ad7c0",
   "metadata": {},
   "source": [
    "# Error Handling\n",
    "\n",
    "Python Built-in errors that you may encounter. \n",
    "\n",
    "Getting familiar with these can help you understand the issue fast and feel more confident."
   ]
  },
  {
   "cell_type": "markdown",
   "id": "78d673e4",
   "metadata": {},
   "source": [
    "### `NameError`\n",
    "\n",
    "You’ll get a `NameError` when an object can’t be found in Python."
   ]
  },
  {
   "cell_type": "code",
   "execution_count": 2,
   "id": "2b0d0233",
   "metadata": {},
   "outputs": [
    {
     "name": "stdout",
     "output_type": "stream",
     "text": [
      "3\n"
     ]
    }
   ],
   "source": [
    "s = 'Hello, World!'\n",
    "monkey = 3\n",
    "print(monkey)"
   ]
  },
  {
   "cell_type": "markdown",
   "id": "fb4c3e4f",
   "metadata": {},
   "source": [
    "### `SyntaxError`\n",
    "\n",
    "You’ll get a `SyntaxError` when you make a syntax error in Python. It can be a missing quote or parenthesis."
   ]
  },
  {
   "cell_type": "code",
   "execution_count": 4,
   "id": "7d6c2696",
   "metadata": {},
   "outputs": [
    {
     "name": "stdout",
     "output_type": "stream",
     "text": [
      "Hello, World!\n"
     ]
    }
   ],
   "source": [
    "s = 'Hello, World!'\n",
    "\n",
    "print(s)"
   ]
  },
  {
   "cell_type": "markdown",
   "id": "6db3f237",
   "metadata": {},
   "source": [
    "### `TypeError`\n",
    "\n",
    "You’ll get a `TypeError` when you apply an operation or function to the wrong type of data, such as applying arithmetic operations to strings."
   ]
  },
  {
   "cell_type": "code",
   "execution_count": 6,
   "id": "03b6c44c",
   "metadata": {},
   "outputs": [
    {
     "name": "stdout",
     "output_type": "stream",
     "text": [
      "Hello, World!5\n"
     ]
    }
   ],
   "source": [
    "s = 'Hello, World!'\n",
    "\n",
    "print(s + '5')"
   ]
  },
  {
   "cell_type": "markdown",
   "id": "fe37f847",
   "metadata": {},
   "source": [
    "### `IndexError`\n",
    "\n",
    "You’ll get an `IndexError` when you try to reach an index outside the limits of your data."
   ]
  },
  {
   "cell_type": "code",
   "execution_count": 8,
   "id": "cdad4387",
   "metadata": {},
   "outputs": [
    {
     "name": "stdout",
     "output_type": "stream",
     "text": [
      ",\n"
     ]
    }
   ],
   "source": [
    "s = 'Hello, World!'\n",
    "\n",
    "print(s[5])"
   ]
  },
  {
   "cell_type": "markdown",
   "id": "e14d26dc",
   "metadata": {},
   "source": [
    "### `KeyError`\n",
    "\n",
    "`KeyError` is like `IndexError` for dictionaries. If you try to reach a key that’s not included in your dictionary, you’ll get a `KeyError`"
   ]
  },
  {
   "cell_type": "code",
   "execution_count": 9,
   "id": "24a33c8a",
   "metadata": {},
   "outputs": [
    {
     "ename": "KeyError",
     "evalue": "'Lemon'",
     "output_type": "error",
     "traceback": [
      "\u001b[0;31m---------------------------------------------------------------------------\u001b[0m",
      "\u001b[0;31mKeyError\u001b[0m                                  Traceback (most recent call last)",
      "\u001b[0;32m/var/folders/5f/vgbh9pkd4wzf4ysrpf9wsr800000gn/T/ipykernel_94438/2290799196.py\u001b[0m in \u001b[0;36m<module>\u001b[0;34m\u001b[0m\n\u001b[1;32m      1\u001b[0m \u001b[0md\u001b[0m \u001b[0;34m=\u001b[0m \u001b[0;34m{\u001b[0m\u001b[0;34m'Apple'\u001b[0m\u001b[0;34m:\u001b[0m \u001b[0;36m5\u001b[0m\u001b[0;34m,\u001b[0m \u001b[0;34m'Mango'\u001b[0m\u001b[0;34m:\u001b[0m \u001b[0;36m7\u001b[0m\u001b[0;34m}\u001b[0m\u001b[0;34m\u001b[0m\u001b[0;34m\u001b[0m\u001b[0m\n\u001b[1;32m      2\u001b[0m \u001b[0;34m\u001b[0m\u001b[0m\n\u001b[0;32m----> 3\u001b[0;31m \u001b[0mprint\u001b[0m\u001b[0;34m(\u001b[0m\u001b[0md\u001b[0m\u001b[0;34m[\u001b[0m\u001b[0;34m'Lemon'\u001b[0m\u001b[0;34m]\u001b[0m\u001b[0;34m)\u001b[0m\u001b[0;34m\u001b[0m\u001b[0;34m\u001b[0m\u001b[0m\n\u001b[0m",
      "\u001b[0;31mKeyError\u001b[0m: 'Lemon'"
     ]
    }
   ],
   "source": [
    "d = {'Apple': 5, 'Mango': 7}\n",
    "\n",
    "print(d['Lemon'])"
   ]
  },
  {
   "cell_type": "markdown",
   "id": "33d61689",
   "metadata": {},
   "source": [
    "### `AttributeError`\n",
    "\n",
    "`AttributeError` occurs when you try to use an attribute or method that doesn’t apply to the specific data you’re working on. For instance, trying to apply `.reverse()` method on a string."
   ]
  },
  {
   "cell_type": "code",
   "execution_count": 12,
   "id": "e744f0b4",
   "metadata": {},
   "outputs": [
    {
     "data": {
      "text/plain": [
       "'Foo'"
      ]
     },
     "execution_count": 12,
     "metadata": {},
     "output_type": "execute_result"
    }
   ],
   "source": [
    "data = 'foo'\n",
    "# data = 11.79011\n",
    "\n",
    "data.capitalize()"
   ]
  },
  {
   "cell_type": "markdown",
   "id": "b83769fe",
   "metadata": {},
   "source": [
    "### `ValueError`\n",
    "\n",
    "`ValueError` occurs when you apply a function to a data type correctly but the content is not suitable for that operation. For example, you can apply `int()` to a string of numbers such as:\n",
    "```Python\n",
    "int(“9999”)\n",
    "```\n",
    "but you can’t convert letters to integers so following won’t work:\n",
    "```Python\n",
    "int(“kittycat”)\n",
    "```"
   ]
  },
  {
   "cell_type": "code",
   "execution_count": 14,
   "id": "4e43f75a",
   "metadata": {},
   "outputs": [
    {
     "data": {
      "text/plain": [
       "11"
      ]
     },
     "execution_count": 14,
     "metadata": {},
     "output_type": "execute_result"
    }
   ],
   "source": [
    "int('11')"
   ]
  },
  {
   "cell_type": "code",
   "execution_count": null,
   "id": "0ab0b92d",
   "metadata": {},
   "outputs": [],
   "source": []
  },
  {
   "cell_type": "code",
   "execution_count": null,
   "id": "a05b988e",
   "metadata": {},
   "outputs": [],
   "source": []
  },
  {
   "cell_type": "markdown",
   "id": "c19b30d4",
   "metadata": {},
   "source": [
    "### Exercises\n",
    "\n",
    "[7 Exercises About Error Handling in Python](https://holypython.com/beginner-python-exercises/exercise-15-error-handling/)"
   ]
  },
  {
   "cell_type": "code",
   "execution_count": null,
   "id": "d76ead25",
   "metadata": {},
   "outputs": [],
   "source": []
  }
 ],
 "metadata": {
  "kernelspec": {
   "display_name": "Python 3 (ipykernel)",
   "language": "python",
   "name": "python3"
  },
  "language_info": {
   "codemirror_mode": {
    "name": "ipython",
    "version": 3
   },
   "file_extension": ".py",
   "mimetype": "text/x-python",
   "name": "python",
   "nbconvert_exporter": "python",
   "pygments_lexer": "ipython3",
   "version": "3.9.13"
  }
 },
 "nbformat": 4,
 "nbformat_minor": 5
}
