{
 "cells": [
  {
   "cell_type": "markdown",
   "id": "dea8cf2d",
   "metadata": {},
   "source": [
    "# Defining Functions\n",
    "\n",
    "Defining a function is pretty simple and straightforward in Python but there are a few \n",
    "points you should keep in mind.\n",
    "\n",
    "We will explain all of those clearly here in this lesson.\n",
    "\n",
    "- `def` User defined functions start with `def`\n",
    "- **name** Then an appropriate name for the functions (avoid using Python reserved keywords like: `print`, `int`, `None`, `def`, `len`, `lower`, etc.\n",
    "- **parameters** Then parentheses with optional parameters.\n",
    "- **colon** Then colon.\n",
    "- **function code** The indentation code below is the code.\n",
    "\n",
    "After user defined function is finished, you can simply call it.\n",
    "\n",
    "```Python\n",
    "def hello_world():\n",
    "    print(\"Hello World!\")\n",
    "\n",
    "hello_world()\n",
    "```"
   ]
  },
  {
   "cell_type": "code",
   "execution_count": 1,
   "id": "0ddca0ce",
   "metadata": {},
   "outputs": [],
   "source": [
    "def hello_world():\n",
    "    print(\"Hello World!\")"
   ]
  },
  {
   "cell_type": "code",
   "execution_count": 2,
   "id": "e98238a9",
   "metadata": {},
   "outputs": [
    {
     "name": "stdout",
     "output_type": "stream",
     "text": [
      "Hello World!\n"
     ]
    }
   ],
   "source": [
    "hello_world()"
   ]
  },
  {
   "cell_type": "code",
   "execution_count": 3,
   "id": "f3d0c0c8",
   "metadata": {},
   "outputs": [
    {
     "name": "stdout",
     "output_type": "stream",
     "text": [
      "Hello World!\n"
     ]
    }
   ],
   "source": [
    "hello_world()"
   ]
  },
  {
   "cell_type": "markdown",
   "id": "c9c9baee",
   "metadata": {},
   "source": [
    "### Function with parameter values\n",
    "\n",
    "```Python\n",
    "def per_hundred(x):\n",
    "    print(x/100)\n",
    "\n",
    "per_hundred(5000)\n",
    "```"
   ]
  },
  {
   "cell_type": "code",
   "execution_count": 4,
   "id": "655528e6",
   "metadata": {},
   "outputs": [
    {
     "name": "stdout",
     "output_type": "stream",
     "text": [
      "50.0\n"
     ]
    }
   ],
   "source": [
    "def per_hundred(x):\n",
    "    print(x/100)\n",
    "\n",
    "    \n",
    "per_hundred(5000)"
   ]
  },
  {
   "cell_type": "code",
   "execution_count": 5,
   "id": "2c452457",
   "metadata": {},
   "outputs": [
    {
     "name": "stdout",
     "output_type": "stream",
     "text": [
      "50.0\n",
      "None\n"
     ]
    }
   ],
   "source": [
    "v = per_hundred(5000)\n",
    "\n",
    "print(v)"
   ]
  },
  {
   "cell_type": "code",
   "execution_count": null,
   "id": "b2db2b2b",
   "metadata": {},
   "outputs": [],
   "source": []
  },
  {
   "cell_type": "markdown",
   "id": "d9c9912c",
   "metadata": {},
   "source": [
    "### Return Statement\n",
    "Unless you use return in your function it will not return any value. \n",
    "\n",
    "You can also assign it to a variable.\n",
    "```Python\n",
    "def per_hundred(x):\n",
    "    return x/100\n",
    "\n",
    "my_answer = per_hundred(5000)\n",
    "print(my_answer)\n",
    "```"
   ]
  },
  {
   "cell_type": "code",
   "execution_count": 6,
   "id": "114707bf",
   "metadata": {},
   "outputs": [],
   "source": [
    "def per_hundred(x):\n",
    "    return x/100"
   ]
  },
  {
   "cell_type": "code",
   "execution_count": 7,
   "id": "14d3dd65",
   "metadata": {},
   "outputs": [
    {
     "name": "stdout",
     "output_type": "stream",
     "text": [
      "50.0\n"
     ]
    }
   ],
   "source": [
    "v = per_hundred(5000)\n",
    "\n",
    "print(v)"
   ]
  },
  {
   "cell_type": "code",
   "execution_count": null,
   "id": "480cfac9",
   "metadata": {},
   "outputs": [],
   "source": []
  },
  {
   "cell_type": "markdown",
   "id": "ef89701b",
   "metadata": {},
   "source": [
    "### Common mistake\n",
    "\n",
    "Forgetting the colon."
   ]
  },
  {
   "cell_type": "code",
   "execution_count": 8,
   "id": "d9ff757e",
   "metadata": {},
   "outputs": [
    {
     "ename": "SyntaxError",
     "evalue": "invalid syntax (1396965160.py, line 1)",
     "output_type": "error",
     "traceback": [
      "\u001b[0;36m  File \u001b[0;32m\"/var/folders/5f/vgbh9pkd4wzf4ysrpf9wsr800000gn/T/ipykernel_94575/1396965160.py\"\u001b[0;36m, line \u001b[0;32m1\u001b[0m\n\u001b[0;31m    def per_hundred(x)\u001b[0m\n\u001b[0m                      ^\u001b[0m\n\u001b[0;31mSyntaxError\u001b[0m\u001b[0;31m:\u001b[0m invalid syntax\n"
     ]
    }
   ],
   "source": [
    "def per_hundred(x)\n",
    "    return x/100\n",
    "    \n",
    "my_answer = per_hundred(5000)\n",
    "print (my_answer)"
   ]
  },
  {
   "cell_type": "code",
   "execution_count": null,
   "id": "836765fa",
   "metadata": {},
   "outputs": [],
   "source": []
  },
  {
   "cell_type": "markdown",
   "id": "442a6d09",
   "metadata": {},
   "source": [
    "### `print()` vs `return`\n",
    "\n",
    "- If you include a `print()` function this might trick you to believe that it is the value your function returns, however this is not the case. \n",
    "- When you use `print()` function in a function, it simply prints something in the console and does nothing more than that.\n",
    "- If you want your function to return a value when it is called later (for it to equal to something after it runs and ends) you need to use `return` statement."
   ]
  },
  {
   "cell_type": "markdown",
   "id": "4fb28420",
   "metadata": {},
   "source": [
    "Consider this code.\n",
    "\n",
    "```Python\n",
    "def plus_two(x):\n",
    "    print (x+2)\n",
    "    return (x+2)\n",
    "\n",
    "func = plus_two(2)\n",
    "print(func)\n",
    "```\n",
    "\n",
    "- You could exclude the `print(x+2)` line. It is only for showing and it doesn’t affect the actual function result.\n",
    "- `return` is the final line in a function. As soon as `return` is executed function will be terminated so technically, you can’t write another line after `return` as the function finalizes at the return line."
   ]
  },
  {
   "cell_type": "code",
   "execution_count": 10,
   "id": "26fedcc0",
   "metadata": {},
   "outputs": [
    {
     "name": "stdout",
     "output_type": "stream",
     "text": [
      "4\n"
     ]
    }
   ],
   "source": [
    "def plus_two(x):\n",
    "    # print (x+2)\n",
    "    return (x+2)\n",
    "\n",
    "func = plus_two(2)\n",
    "print(func)"
   ]
  },
  {
   "cell_type": "code",
   "execution_count": null,
   "id": "72cf0efa",
   "metadata": {},
   "outputs": [],
   "source": []
  },
  {
   "cell_type": "code",
   "execution_count": null,
   "id": "ab1e2427",
   "metadata": {},
   "outputs": [],
   "source": []
  },
  {
   "cell_type": "markdown",
   "id": "6610251d",
   "metadata": {},
   "source": [
    "### Optional parameters\n",
    "\n",
    "You can define functions with optional parameters as well. An optional parameter is a parameter that you don’t have to use because it would already have a pre-assigned value.\n",
    "\n",
    "```Python\n",
    "def fave_color(name, color=\"azure\"):\n",
    "    msg = name+\"'s favorite color is: \"+color\n",
    "    return msg\n",
    "    \n",
    "print(fave_color(\"Pete\"))\n",
    "```\n",
    "\n",
    "- In this case `color` is an optional parameter. It means even if you don’t specify `color` parameter function will execute properly as long as you assign an appropriate value to the default parameter: `name`."
   ]
  },
  {
   "cell_type": "code",
   "execution_count": 11,
   "id": "099dbb1d",
   "metadata": {},
   "outputs": [],
   "source": [
    "def fave_color(name, color=\"azure\"):\n",
    "    msg = name+\"'s favorite color is: \"+color\n",
    "    return msg"
   ]
  },
  {
   "cell_type": "code",
   "execution_count": 14,
   "id": "0f906e35",
   "metadata": {},
   "outputs": [
    {
     "data": {
      "text/plain": [
       "\"James's favorite color is: Blue\""
      ]
     },
     "execution_count": 14,
     "metadata": {},
     "output_type": "execute_result"
    }
   ],
   "source": [
    "fave_color('James', 'Blue')"
   ]
  },
  {
   "cell_type": "code",
   "execution_count": null,
   "id": "b061f225",
   "metadata": {},
   "outputs": [],
   "source": []
  },
  {
   "cell_type": "markdown",
   "id": "1697d9b0",
   "metadata": {},
   "source": [
    "### Exercise\n",
    "\n",
    "[9 Exercises About User Defined Functions in Python](https://holypython.com/beginner-python-exercises/exercise-16-defining-functions/)"
   ]
  },
  {
   "cell_type": "code",
   "execution_count": null,
   "id": "46d9df26",
   "metadata": {},
   "outputs": [],
   "source": []
  }
 ],
 "metadata": {
  "kernelspec": {
   "display_name": "Python 3 (ipykernel)",
   "language": "python",
   "name": "python3"
  },
  "language_info": {
   "codemirror_mode": {
    "name": "ipython",
    "version": 3
   },
   "file_extension": ".py",
   "mimetype": "text/x-python",
   "name": "python",
   "nbconvert_exporter": "python",
   "pygments_lexer": "ipython3",
   "version": "3.9.13"
  }
 },
 "nbformat": 4,
 "nbformat_minor": 5
}
