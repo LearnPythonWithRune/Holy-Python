{
 "cells": [
  {
   "cell_type": "markdown",
   "id": "454c3019",
   "metadata": {},
   "source": [
    "# Slicing\n",
    "\n",
    "Slicing is yet another super practical aspect of Python.\n",
    "\n",
    "It makes accessing strings, lists and tuples partially very effortless.\n",
    "\n",
    "\n",
    "Let’s say you have a list:\n",
    "\n",
    "```Pyhton\n",
    "lst = [1, 2, 3, 4, 5]\n",
    "```\n",
    "\n",
    "If you slice `lst[1:3]` you will get\n",
    "```\n",
    "[2, 3]\n",
    "```"
   ]
  },
  {
   "cell_type": "code",
   "execution_count": 4,
   "id": "5758db30",
   "metadata": {},
   "outputs": [
    {
     "data": {
      "text/plain": [
       "[3, 4]"
      ]
     },
     "execution_count": 4,
     "metadata": {},
     "output_type": "execute_result"
    }
   ],
   "source": [
    "lst = [1, 2, 3, 4, 5]\n",
    "\n",
    "lst[2:4]"
   ]
  },
  {
   "cell_type": "code",
   "execution_count": null,
   "id": "07500008",
   "metadata": {},
   "outputs": [],
   "source": []
  },
  {
   "cell_type": "markdown",
   "id": "8601ecbd",
   "metadata": {},
   "source": [
    "### Used Where?\n",
    "\n",
    "Python’s slicing notation is beautiful and super practical. It can be useful in tons of applications.\n",
    "\n",
    "For instance:\n",
    "- Accessing substrings in strings. (email address or domain extraction can be an example, but examples are infinite)\n",
    "- Extracting parts of lists\n",
    "- Extracting parts of tuples."
   ]
  },
  {
   "cell_type": "code",
   "execution_count": null,
   "id": "e2251761",
   "metadata": {},
   "outputs": [],
   "source": []
  },
  {
   "cell_type": "markdown",
   "id": "2c59a843",
   "metadata": {},
   "source": [
    "### Syntax\n",
    "\n",
    "- Follow the syntax notation `[start:end:step]` or `[start:end]`\n",
    "- If `start` is not given it will start from `0`\n",
    "- If `end` is not given it will go all the way to the end\n",
    "- If `step` is not given, steps will increase by `1`\n",
    "- Slicing always uses brackets regardless of what we are slicing"
   ]
  },
  {
   "cell_type": "markdown",
   "id": "a4b0df2c",
   "metadata": {},
   "source": [
    "### Endings exclusive\n",
    "\n",
    "```Python\n",
    "lst = [40,50,20,30,90]\n",
    "\n",
    "lst[1:3]\n",
    "```\n",
    "\n",
    "Notice how ending is exclusive, index starts from 0 and step is 1 since it’s not specified."
   ]
  },
  {
   "cell_type": "code",
   "execution_count": 9,
   "id": "ff7fd775",
   "metadata": {},
   "outputs": [
    {
     "data": {
      "text/plain": [
       "[40, 50, 20, 30]"
      ]
     },
     "execution_count": 9,
     "metadata": {},
     "output_type": "execute_result"
    }
   ],
   "source": [
    "lst = [40,50,20,30,90]\n",
    "\n",
    "lst[:4]"
   ]
  },
  {
   "cell_type": "code",
   "execution_count": null,
   "id": "d3a80b86",
   "metadata": {},
   "outputs": [],
   "source": []
  },
  {
   "cell_type": "markdown",
   "id": "7417f6bf",
   "metadata": {},
   "source": [
    "### `range()` is same syntax\n",
    "\n",
    "```Python\n",
    "lst = list(range(30, 100, 10))\n",
    "```"
   ]
  },
  {
   "cell_type": "code",
   "execution_count": 10,
   "id": "a5c1c8fb",
   "metadata": {},
   "outputs": [
    {
     "data": {
      "text/plain": [
       "[30, 40, 50, 60, 70, 80, 90]"
      ]
     },
     "execution_count": 10,
     "metadata": {},
     "output_type": "execute_result"
    }
   ],
   "source": [
    "lst = list(range(30, 100, 10))\n",
    "lst"
   ]
  },
  {
   "cell_type": "code",
   "execution_count": null,
   "id": "b0303376",
   "metadata": {},
   "outputs": [],
   "source": []
  },
  {
   "cell_type": "markdown",
   "id": "98c9f2c3",
   "metadata": {},
   "source": [
    "### Using `step`\n",
    "\n",
    "```Python\n",
    "lst = list(range(10))\n",
    "\n",
    "print(lst)\n",
    "\n",
    "print(lst[2:6:2])\n",
    "```"
   ]
  },
  {
   "cell_type": "code",
   "execution_count": 11,
   "id": "be2d5294",
   "metadata": {},
   "outputs": [
    {
     "name": "stdout",
     "output_type": "stream",
     "text": [
      "[0, 1, 2, 3, 4, 5, 6, 7, 8, 9]\n",
      "[2, 4]\n"
     ]
    }
   ],
   "source": [
    "lst = list(range(10))\n",
    "\n",
    "print(lst)\n",
    "\n",
    "print(lst[2:6:2])"
   ]
  },
  {
   "cell_type": "code",
   "execution_count": null,
   "id": "58ff9e4d",
   "metadata": {},
   "outputs": [],
   "source": []
  },
  {
   "cell_type": "markdown",
   "id": "5e529f69",
   "metadata": {},
   "source": [
    "### More Syntax\n",
    "\n",
    "You can omit `start`, `stop`, and `steps` before the colons.\n",
    "\n",
    "```Python\n",
    "lst = [0, 1, 2, 3, 4, 5, 6, 7, 8, 9]\n",
    "```\n",
    "\n",
    "- `lst[:-2]` everything until last 2 elements\n",
    "- `lst[:-2:2]` everything until last 2 elements with steps of 2\n",
    "- `lst[::4]` everything start to finish with steps of 4\n",
    "- `lst[2:-2]` from 3rd element to the second from last"
   ]
  },
  {
   "cell_type": "code",
   "execution_count": 13,
   "id": "ede12552",
   "metadata": {},
   "outputs": [
    {
     "data": {
      "text/plain": [
       "[0, 2, 4, 6]"
      ]
     },
     "execution_count": 13,
     "metadata": {},
     "output_type": "execute_result"
    }
   ],
   "source": [
    "lst = [0, 1, 2, 3, 4, 5, 6, 7, 8, 9]\n",
    "\n",
    "lst[:-2:2]"
   ]
  },
  {
   "cell_type": "code",
   "execution_count": 14,
   "id": "106d27df",
   "metadata": {},
   "outputs": [
    {
     "data": {
      "text/plain": [
       "[0, 4, 8]"
      ]
     },
     "execution_count": 14,
     "metadata": {},
     "output_type": "execute_result"
    }
   ],
   "source": [
    "lst[::4]"
   ]
  },
  {
   "cell_type": "code",
   "execution_count": 15,
   "id": "4cc1cf4b",
   "metadata": {},
   "outputs": [
    {
     "data": {
      "text/plain": [
       "[2, 3, 4, 5, 6, 7]"
      ]
     },
     "execution_count": 15,
     "metadata": {},
     "output_type": "execute_result"
    }
   ],
   "source": [
    "lst[2:-2]"
   ]
  },
  {
   "cell_type": "code",
   "execution_count": null,
   "id": "dc0b07e1",
   "metadata": {},
   "outputs": [],
   "source": []
  },
  {
   "cell_type": "code",
   "execution_count": null,
   "id": "9ce85d57",
   "metadata": {},
   "outputs": [],
   "source": []
  },
  {
   "cell_type": "markdown",
   "id": "ff37ca0a",
   "metadata": {},
   "source": [
    "### Slicing on strings\n",
    "\n",
    "Just to demonstrate that slicing works the same with strings.\n",
    "\n",
    "```Python\n",
    "a = 'Stuttgart'\n",
    "```\n",
    "\n",
    "- `a[2:-2]` from 3rd to second from the last\n",
    "- `a[-2:]` from second from the last to the end"
   ]
  },
  {
   "cell_type": "code",
   "execution_count": 16,
   "id": "8a68f072",
   "metadata": {},
   "outputs": [
    {
     "data": {
      "text/plain": [
       "'uttga'"
      ]
     },
     "execution_count": 16,
     "metadata": {},
     "output_type": "execute_result"
    }
   ],
   "source": [
    "a = 'Stuttgart'\n",
    "\n",
    "a[2:-2]"
   ]
  },
  {
   "cell_type": "code",
   "execution_count": 17,
   "id": "5d40a2a1",
   "metadata": {},
   "outputs": [
    {
     "data": {
      "text/plain": [
       "'rt'"
      ]
     },
     "execution_count": 17,
     "metadata": {},
     "output_type": "execute_result"
    }
   ],
   "source": [
    "a[-2:]"
   ]
  },
  {
   "cell_type": "code",
   "execution_count": null,
   "id": "b1115913",
   "metadata": {},
   "outputs": [],
   "source": []
  },
  {
   "cell_type": "markdown",
   "id": "314ca9fa",
   "metadata": {},
   "source": [
    "### Slicing vs Indexing\n",
    "\n",
    "It’s important to note that you will get a list when you slice a list.\n",
    "\n",
    "But when you index a list you will get the element itself."
   ]
  },
  {
   "cell_type": "code",
   "execution_count": 18,
   "id": "5541e471",
   "metadata": {},
   "outputs": [
    {
     "data": {
      "text/plain": [
       "2"
      ]
     },
     "execution_count": 18,
     "metadata": {},
     "output_type": "execute_result"
    }
   ],
   "source": [
    "lst = [0, 1, 2, 3, 4, 5, 6, 7, 8, 9]\n",
    "\n",
    "lst[2]"
   ]
  },
  {
   "cell_type": "code",
   "execution_count": 19,
   "id": "7024a237",
   "metadata": {},
   "outputs": [
    {
     "data": {
      "text/plain": [
       "[2]"
      ]
     },
     "execution_count": 19,
     "metadata": {},
     "output_type": "execute_result"
    }
   ],
   "source": [
    "lst[2:3]"
   ]
  },
  {
   "cell_type": "code",
   "execution_count": null,
   "id": "dc389d21",
   "metadata": {},
   "outputs": [],
   "source": []
  },
  {
   "cell_type": "markdown",
   "id": "c59a0cbd",
   "metadata": {},
   "source": [
    "### Exercises\n",
    "\n",
    "[8 Exercises About Python Slicing Notions](https://holypython.com/beginner-python-exercises/exercise-17-python-slicing/) "
   ]
  },
  {
   "cell_type": "code",
   "execution_count": null,
   "id": "d4d6b574",
   "metadata": {},
   "outputs": [],
   "source": []
  }
 ],
 "metadata": {
  "kernelspec": {
   "display_name": "Python 3 (ipykernel)",
   "language": "python",
   "name": "python3"
  },
  "language_info": {
   "codemirror_mode": {
    "name": "ipython",
    "version": 3
   },
   "file_extension": ".py",
   "mimetype": "text/x-python",
   "name": "python",
   "nbconvert_exporter": "python",
   "pygments_lexer": "ipython3",
   "version": "3.9.13"
  }
 },
 "nbformat": 4,
 "nbformat_minor": 5
}
