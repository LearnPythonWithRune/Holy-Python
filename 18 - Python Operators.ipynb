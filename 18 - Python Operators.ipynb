{
 "cells": [
  {
   "cell_type": "markdown",
   "id": "01f7b58a",
   "metadata": {},
   "source": [
    "# Python Operators\n",
    "\n",
    "Simply put, Python operators are special signs.\n",
    "\n",
    "- **Assignment operators** While assigning values to variables.\n",
    "```Python\n",
    "result = \"win\"\n",
    "st_RE = [\"wind\", \"solar\", \"wave power\", \"bioenergy\"]\n",
    "```\n",
    "- **Arithmetic operators** Mathematics! but really everything we do.\n",
    "```Python\n",
    "5 + 5\n",
    "100%7\n",
    "12//5\n",
    "```\n",
    "- **Relational operators** When constructing a conditional statement\n",
    "```Python\n",
    "if a == 5:\n",
    "    pass\n",
    "if result == \"win\":\n",
    "    pass\n",
    "```\n",
    "- **Membership operators** When checking if a group of values contains a sub-value\n",
    "```Python\n",
    "5 in lst\n",
    "\"Jay\" in sentence\n",
    "\"a\" not in wrd\n",
    "```"
   ]
  },
  {
   "cell_type": "markdown",
   "id": "a21a4b82",
   "metadata": {},
   "source": [
    "### Assignment Operator\n",
    "\n",
    "Let’s start with assignment operators since they are one of the first group of operators that are encountered by programming learners.\n",
    "\n",
    "- `=` Variable goes on the left side of the operator (equal sign) and the value being assigned goes to the right of the equal sign."
   ]
  },
  {
   "cell_type": "code",
   "execution_count": 1,
   "id": "2d108aef",
   "metadata": {},
   "outputs": [],
   "source": [
    "v = 'str'"
   ]
  },
  {
   "cell_type": "code",
   "execution_count": null,
   "id": "37450d72",
   "metadata": {},
   "outputs": [],
   "source": []
  },
  {
   "cell_type": "markdown",
   "id": "de1dac1a",
   "metadata": {},
   "source": [
    "### Arithmetic Operators\n",
    "\n",
    "- `+` Addition `a + b`\n",
    "- `-` Subtraction `a - b`\n",
    "- `*` Multiplication `a*b`\n",
    "- `/` Division `a/b`\n",
    "- `//` Integer division `a//b`\n",
    "- `%` Modulus (gives the remainder of a division process) `a%b`\n",
    "- `**` Power (raises the first value to the power of the second value) `a**b`"
   ]
  },
  {
   "cell_type": "code",
   "execution_count": 2,
   "id": "75cbce53",
   "metadata": {},
   "outputs": [
    {
     "data": {
      "text/plain": [
       "3"
      ]
     },
     "execution_count": 2,
     "metadata": {},
     "output_type": "execute_result"
    }
   ],
   "source": [
    "a = 1\n",
    "b = 2\n",
    "\n",
    "a + b"
   ]
  },
  {
   "cell_type": "code",
   "execution_count": null,
   "id": "28306dcc",
   "metadata": {},
   "outputs": [],
   "source": []
  },
  {
   "cell_type": "code",
   "execution_count": null,
   "id": "8a66db58",
   "metadata": {},
   "outputs": [],
   "source": []
  },
  {
   "cell_type": "markdown",
   "id": "5467b0c5",
   "metadata": {},
   "source": [
    "### Logical Operators\n",
    "\n",
    "- `and` Logical AND: Will returns `True` when both operands are `True`\n",
    "- `or` Logical OR: Will return `True` if one of the operands is `True`\n",
    "- `not` Logical NOT: Will return `True` if operand(s) is `False`"
   ]
  },
  {
   "cell_type": "code",
   "execution_count": 4,
   "id": "ba1a10d4",
   "metadata": {},
   "outputs": [
    {
     "data": {
      "text/plain": [
       "True"
      ]
     },
     "execution_count": 4,
     "metadata": {},
     "output_type": "execute_result"
    }
   ],
   "source": [
    "a = 1\n",
    "b = 2\n",
    "\n",
    "a > b or b > a"
   ]
  },
  {
   "cell_type": "code",
   "execution_count": 5,
   "id": "6780806b",
   "metadata": {},
   "outputs": [
    {
     "data": {
      "text/plain": [
       "True"
      ]
     },
     "execution_count": 5,
     "metadata": {},
     "output_type": "execute_result"
    }
   ],
   "source": [
    "not a > b"
   ]
  },
  {
   "cell_type": "code",
   "execution_count": 6,
   "id": "e354b313",
   "metadata": {},
   "outputs": [
    {
     "data": {
      "text/plain": [
       "False"
      ]
     },
     "execution_count": 6,
     "metadata": {},
     "output_type": "execute_result"
    }
   ],
   "source": [
    "a > b and b > a"
   ]
  },
  {
   "cell_type": "markdown",
   "id": "6f26df8f",
   "metadata": {},
   "source": [
    "### Relational or Comparison\n",
    "\n",
    "- `>` Greater than: returns True if left side is greater than the right side `x > y`\n",
    "- `<` Less than: returns True if left side is less than the right side `x < y`\n",
    "- `==` Equal: returns True if left side is equal to the right side `x == y`\n",
    "- `!=` Not equal: – returns True if left side is not equal to right side `x != y`\n",
    "- `>=` Greater than or equal to: returns True if left side is greater than or equal to the right side `x >= y`\n",
    "- `<=` Less than or equal to: returns True if left side is less than or equal to the right side `x <= y`"
   ]
  },
  {
   "cell_type": "code",
   "execution_count": null,
   "id": "daf64789",
   "metadata": {},
   "outputs": [],
   "source": []
  },
  {
   "cell_type": "code",
   "execution_count": null,
   "id": "94689865",
   "metadata": {},
   "outputs": [],
   "source": []
  },
  {
   "cell_type": "code",
   "execution_count": null,
   "id": "ae802442",
   "metadata": {},
   "outputs": [],
   "source": []
  },
  {
   "cell_type": "markdown",
   "id": "5b6cc557",
   "metadata": {},
   "source": [
    "### Tricks\n",
    "\n",
    "- `+=` This is a useful operator that makes adding values more practical.\n",
    "- `-=` Same idea as above but for subtraction"
   ]
  },
  {
   "cell_type": "code",
   "execution_count": 7,
   "id": "be3edee6",
   "metadata": {},
   "outputs": [
    {
     "data": {
      "text/plain": [
       "10"
      ]
     },
     "execution_count": 7,
     "metadata": {},
     "output_type": "execute_result"
    }
   ],
   "source": [
    "cnt = 0\n",
    "\n",
    "cnt += 10\n",
    "\n",
    "cnt"
   ]
  },
  {
   "cell_type": "code",
   "execution_count": 8,
   "id": "e57ee06e",
   "metadata": {},
   "outputs": [
    {
     "data": {
      "text/plain": [
       "17"
      ]
     },
     "execution_count": 8,
     "metadata": {},
     "output_type": "execute_result"
    }
   ],
   "source": [
    "cnt += 7\n",
    "cnt"
   ]
  },
  {
   "cell_type": "code",
   "execution_count": 9,
   "id": "3a3ab466",
   "metadata": {},
   "outputs": [
    {
     "data": {
      "text/plain": [
       "1"
      ]
     },
     "execution_count": 9,
     "metadata": {},
     "output_type": "execute_result"
    }
   ],
   "source": [
    "cnt -= 16\n",
    "cnt"
   ]
  },
  {
   "cell_type": "markdown",
   "id": "b3304c4d",
   "metadata": {},
   "source": [
    "### Membership Operators\n",
    "\n",
    "- `in`  Will return `True` if an object is in another object\n",
    "- `not in` Will return `True` if an object is not in another object"
   ]
  },
  {
   "cell_type": "code",
   "execution_count": 13,
   "id": "a4439a08",
   "metadata": {},
   "outputs": [
    {
     "data": {
      "text/plain": [
       "True"
      ]
     },
     "execution_count": 13,
     "metadata": {},
     "output_type": "execute_result"
    }
   ],
   "source": [
    "lst = ['foo', 'bar', 'foobar']\n",
    "\n",
    "'barbar' not in lst"
   ]
  },
  {
   "cell_type": "code",
   "execution_count": null,
   "id": "69d5f2cf",
   "metadata": {},
   "outputs": [],
   "source": []
  },
  {
   "cell_type": "code",
   "execution_count": null,
   "id": "7c6fa87f",
   "metadata": {},
   "outputs": [],
   "source": []
  },
  {
   "cell_type": "markdown",
   "id": "7eb32e7f",
   "metadata": {},
   "source": [
    "### Exercises\n",
    "\n",
    "[6 Exercises About Operators in Python](https://holypython.com/beginner-python-exercises/exercise-18-python-operators/)"
   ]
  },
  {
   "cell_type": "code",
   "execution_count": null,
   "id": "28a13650",
   "metadata": {},
   "outputs": [],
   "source": []
  }
 ],
 "metadata": {
  "kernelspec": {
   "display_name": "Python 3 (ipykernel)",
   "language": "python",
   "name": "python3"
  },
  "language_info": {
   "codemirror_mode": {
    "name": "ipython",
    "version": 3
   },
   "file_extension": ".py",
   "mimetype": "text/x-python",
   "name": "python",
   "nbconvert_exporter": "python",
   "pygments_lexer": "ipython3",
   "version": "3.9.13"
  }
 },
 "nbformat": 4,
 "nbformat_minor": 5
}
